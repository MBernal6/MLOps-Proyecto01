{
 "cells": [
  {
   "cell_type": "markdown",
   "metadata": {},
   "source": [
    "# **ETL MLOps**\n",
    " Se realizará un proceso que se enfoca en la preparación y limpieza de los datos para su uso con una API y análisis posteriores."
   ]
  },
  {
   "cell_type": "markdown",
   "metadata": {},
   "source": [
    "--------------------"
   ]
  },
  {
   "cell_type": "markdown",
   "metadata": {},
   "source": [
    "# 1. Extracción de la base de datos\n",
    "La base de datos fue brindada en el siguinte [link](https://drive.google.com/drive/folders/1mfUVyP3jS-UMdKHERknkQ4gaCRCO2e1v?usp=drive_link), la cuál fue descargada y guardada en un repositorio local. Se cuenta con 4 datasets que serán previamente analizados para continuar con la transformación de los necesarios."
   ]
  },
  {
   "cell_type": "code",
   "execution_count": 329,
   "metadata": {},
   "outputs": [],
   "source": [
    "#Importación de librerias \n",
    "import pandas as pd \n",
    "import numpy as np "
   ]
  },
  {
   "cell_type": "code",
   "execution_count": 330,
   "metadata": {},
   "outputs": [
    {
     "name": "stderr",
     "output_type": "stream",
     "text": [
      "C:\\Users\\Usuario\\AppData\\Local\\Temp\\ipykernel_11512\\2483670269.py:3: DtypeWarning: Columns (10) have mixed types. Specify dtype option on import or set low_memory=False.\n",
      "  movies = pd.read_csv(\"Datasets\\movies_dataset.csv\")\n"
     ]
    }
   ],
   "source": [
    "#Lectura de los datasets\n",
    "#Movies\n",
    "movies = pd.read_csv(\"Datasets\\movies_dataset.csv\")\n",
    "\n",
    "#Créditos\n",
    "creditos = pd.read_csv(\"Datasets\\credits.csv\")"
   ]
  },
  {
   "cell_type": "code",
   "execution_count": 331,
   "metadata": {},
   "outputs": [
    {
     "data": {
      "text/html": [
       "<div>\n",
       "<style scoped>\n",
       "    .dataframe tbody tr th:only-of-type {\n",
       "        vertical-align: middle;\n",
       "    }\n",
       "\n",
       "    .dataframe tbody tr th {\n",
       "        vertical-align: top;\n",
       "    }\n",
       "\n",
       "    .dataframe thead th {\n",
       "        text-align: right;\n",
       "    }\n",
       "</style>\n",
       "<table border=\"1\" class=\"dataframe\">\n",
       "  <thead>\n",
       "    <tr style=\"text-align: right;\">\n",
       "      <th></th>\n",
       "      <th>adult</th>\n",
       "      <th>belongs_to_collection</th>\n",
       "      <th>budget</th>\n",
       "      <th>genres</th>\n",
       "      <th>homepage</th>\n",
       "      <th>id</th>\n",
       "      <th>imdb_id</th>\n",
       "      <th>original_language</th>\n",
       "      <th>original_title</th>\n",
       "      <th>overview</th>\n",
       "      <th>...</th>\n",
       "      <th>release_date</th>\n",
       "      <th>revenue</th>\n",
       "      <th>runtime</th>\n",
       "      <th>spoken_languages</th>\n",
       "      <th>status</th>\n",
       "      <th>tagline</th>\n",
       "      <th>title</th>\n",
       "      <th>video</th>\n",
       "      <th>vote_average</th>\n",
       "      <th>vote_count</th>\n",
       "    </tr>\n",
       "  </thead>\n",
       "  <tbody>\n",
       "    <tr>\n",
       "      <th>0</th>\n",
       "      <td>False</td>\n",
       "      <td>{'id': 10194, 'name': 'Toy Story Collection', ...</td>\n",
       "      <td>30000000</td>\n",
       "      <td>[{'id': 16, 'name': 'Animation'}, {'id': 35, '...</td>\n",
       "      <td>http://toystory.disney.com/toy-story</td>\n",
       "      <td>862</td>\n",
       "      <td>tt0114709</td>\n",
       "      <td>en</td>\n",
       "      <td>Toy Story</td>\n",
       "      <td>Led by Woody, Andy's toys live happily in his ...</td>\n",
       "      <td>...</td>\n",
       "      <td>1995-10-30</td>\n",
       "      <td>373554033.0</td>\n",
       "      <td>81.0</td>\n",
       "      <td>[{'iso_639_1': 'en', 'name': 'English'}]</td>\n",
       "      <td>Released</td>\n",
       "      <td>NaN</td>\n",
       "      <td>Toy Story</td>\n",
       "      <td>False</td>\n",
       "      <td>7.7</td>\n",
       "      <td>5415.0</td>\n",
       "    </tr>\n",
       "    <tr>\n",
       "      <th>1</th>\n",
       "      <td>False</td>\n",
       "      <td>NaN</td>\n",
       "      <td>65000000</td>\n",
       "      <td>[{'id': 12, 'name': 'Adventure'}, {'id': 14, '...</td>\n",
       "      <td>NaN</td>\n",
       "      <td>8844</td>\n",
       "      <td>tt0113497</td>\n",
       "      <td>en</td>\n",
       "      <td>Jumanji</td>\n",
       "      <td>When siblings Judy and Peter discover an encha...</td>\n",
       "      <td>...</td>\n",
       "      <td>1995-12-15</td>\n",
       "      <td>262797249.0</td>\n",
       "      <td>104.0</td>\n",
       "      <td>[{'iso_639_1': 'en', 'name': 'English'}, {'iso...</td>\n",
       "      <td>Released</td>\n",
       "      <td>Roll the dice and unleash the excitement!</td>\n",
       "      <td>Jumanji</td>\n",
       "      <td>False</td>\n",
       "      <td>6.9</td>\n",
       "      <td>2413.0</td>\n",
       "    </tr>\n",
       "  </tbody>\n",
       "</table>\n",
       "<p>2 rows × 24 columns</p>\n",
       "</div>"
      ],
      "text/plain": [
       "   adult                              belongs_to_collection    budget  \\\n",
       "0  False  {'id': 10194, 'name': 'Toy Story Collection', ...  30000000   \n",
       "1  False                                                NaN  65000000   \n",
       "\n",
       "                                              genres  \\\n",
       "0  [{'id': 16, 'name': 'Animation'}, {'id': 35, '...   \n",
       "1  [{'id': 12, 'name': 'Adventure'}, {'id': 14, '...   \n",
       "\n",
       "                               homepage    id    imdb_id original_language  \\\n",
       "0  http://toystory.disney.com/toy-story   862  tt0114709                en   \n",
       "1                                   NaN  8844  tt0113497                en   \n",
       "\n",
       "  original_title                                           overview  ...  \\\n",
       "0      Toy Story  Led by Woody, Andy's toys live happily in his ...  ...   \n",
       "1        Jumanji  When siblings Judy and Peter discover an encha...  ...   \n",
       "\n",
       "  release_date      revenue runtime  \\\n",
       "0   1995-10-30  373554033.0    81.0   \n",
       "1   1995-12-15  262797249.0   104.0   \n",
       "\n",
       "                                    spoken_languages    status  \\\n",
       "0           [{'iso_639_1': 'en', 'name': 'English'}]  Released   \n",
       "1  [{'iso_639_1': 'en', 'name': 'English'}, {'iso...  Released   \n",
       "\n",
       "                                     tagline      title  video vote_average  \\\n",
       "0                                        NaN  Toy Story  False          7.7   \n",
       "1  Roll the dice and unleash the excitement!    Jumanji  False          6.9   \n",
       "\n",
       "  vote_count  \n",
       "0     5415.0  \n",
       "1     2413.0  \n",
       "\n",
       "[2 rows x 24 columns]"
      ]
     },
     "execution_count": 331,
     "metadata": {},
     "output_type": "execute_result"
    }
   ],
   "source": [
    "#Movies \n",
    "movies.head(2)"
   ]
  },
  {
   "cell_type": "code",
   "execution_count": 332,
   "metadata": {},
   "outputs": [
    {
     "name": "stdout",
     "output_type": "stream",
     "text": [
      "<class 'pandas.core.frame.DataFrame'>\n",
      "RangeIndex: 45466 entries, 0 to 45465\n",
      "Data columns (total 24 columns):\n",
      " #   Column                 Non-Null Count  Dtype  \n",
      "---  ------                 --------------  -----  \n",
      " 0   adult                  45466 non-null  object \n",
      " 1   belongs_to_collection  4494 non-null   object \n",
      " 2   budget                 45466 non-null  object \n",
      " 3   genres                 45466 non-null  object \n",
      " 4   homepage               7782 non-null   object \n",
      " 5   id                     45466 non-null  object \n",
      " 6   imdb_id                45449 non-null  object \n",
      " 7   original_language      45455 non-null  object \n",
      " 8   original_title         45466 non-null  object \n",
      " 9   overview               44512 non-null  object \n",
      " 10  popularity             45461 non-null  object \n",
      " 11  poster_path            45080 non-null  object \n",
      " 12  production_companies   45463 non-null  object \n",
      " 13  production_countries   45463 non-null  object \n",
      " 14  release_date           45379 non-null  object \n",
      " 15  revenue                45460 non-null  float64\n",
      " 16  runtime                45203 non-null  float64\n",
      " 17  spoken_languages       45460 non-null  object \n",
      " 18  status                 45379 non-null  object \n",
      " 19  tagline                20412 non-null  object \n",
      " 20  title                  45460 non-null  object \n",
      " 21  video                  45460 non-null  object \n",
      " 22  vote_average           45460 non-null  float64\n",
      " 23  vote_count             45460 non-null  float64\n",
      "dtypes: float64(4), object(20)\n",
      "memory usage: 8.3+ MB\n"
     ]
    }
   ],
   "source": [
    "movies.info()"
   ]
  },
  {
   "cell_type": "code",
   "execution_count": 333,
   "metadata": {},
   "outputs": [
    {
     "data": {
      "text/html": [
       "<div>\n",
       "<style scoped>\n",
       "    .dataframe tbody tr th:only-of-type {\n",
       "        vertical-align: middle;\n",
       "    }\n",
       "\n",
       "    .dataframe tbody tr th {\n",
       "        vertical-align: top;\n",
       "    }\n",
       "\n",
       "    .dataframe thead th {\n",
       "        text-align: right;\n",
       "    }\n",
       "</style>\n",
       "<table border=\"1\" class=\"dataframe\">\n",
       "  <thead>\n",
       "    <tr style=\"text-align: right;\">\n",
       "      <th></th>\n",
       "      <th>cast</th>\n",
       "      <th>crew</th>\n",
       "      <th>id</th>\n",
       "    </tr>\n",
       "  </thead>\n",
       "  <tbody>\n",
       "    <tr>\n",
       "      <th>0</th>\n",
       "      <td>[{'cast_id': 14, 'character': 'Woody (voice)',...</td>\n",
       "      <td>[{'credit_id': '52fe4284c3a36847f8024f49', 'de...</td>\n",
       "      <td>862</td>\n",
       "    </tr>\n",
       "    <tr>\n",
       "      <th>1</th>\n",
       "      <td>[{'cast_id': 1, 'character': 'Alan Parrish', '...</td>\n",
       "      <td>[{'credit_id': '52fe44bfc3a36847f80a7cd1', 'de...</td>\n",
       "      <td>8844</td>\n",
       "    </tr>\n",
       "    <tr>\n",
       "      <th>2</th>\n",
       "      <td>[{'cast_id': 2, 'character': 'Max Goldman', 'c...</td>\n",
       "      <td>[{'credit_id': '52fe466a9251416c75077a89', 'de...</td>\n",
       "      <td>15602</td>\n",
       "    </tr>\n",
       "    <tr>\n",
       "      <th>3</th>\n",
       "      <td>[{'cast_id': 1, 'character': \"Savannah 'Vannah...</td>\n",
       "      <td>[{'credit_id': '52fe44779251416c91011acb', 'de...</td>\n",
       "      <td>31357</td>\n",
       "    </tr>\n",
       "    <tr>\n",
       "      <th>4</th>\n",
       "      <td>[{'cast_id': 1, 'character': 'George Banks', '...</td>\n",
       "      <td>[{'credit_id': '52fe44959251416c75039ed7', 'de...</td>\n",
       "      <td>11862</td>\n",
       "    </tr>\n",
       "  </tbody>\n",
       "</table>\n",
       "</div>"
      ],
      "text/plain": [
       "                                                cast  \\\n",
       "0  [{'cast_id': 14, 'character': 'Woody (voice)',...   \n",
       "1  [{'cast_id': 1, 'character': 'Alan Parrish', '...   \n",
       "2  [{'cast_id': 2, 'character': 'Max Goldman', 'c...   \n",
       "3  [{'cast_id': 1, 'character': \"Savannah 'Vannah...   \n",
       "4  [{'cast_id': 1, 'character': 'George Banks', '...   \n",
       "\n",
       "                                                crew     id  \n",
       "0  [{'credit_id': '52fe4284c3a36847f8024f49', 'de...    862  \n",
       "1  [{'credit_id': '52fe44bfc3a36847f80a7cd1', 'de...   8844  \n",
       "2  [{'credit_id': '52fe466a9251416c75077a89', 'de...  15602  \n",
       "3  [{'credit_id': '52fe44779251416c91011acb', 'de...  31357  \n",
       "4  [{'credit_id': '52fe44959251416c75039ed7', 'de...  11862  "
      ]
     },
     "execution_count": 333,
     "metadata": {},
     "output_type": "execute_result"
    }
   ],
   "source": [
    "#Creditos \n",
    "creditos.head(5)"
   ]
  },
  {
   "cell_type": "markdown",
   "metadata": {},
   "source": [
    "---------------------------------------"
   ]
  },
  {
   "cell_type": "markdown",
   "metadata": {},
   "source": [
    "# 2. TRANSFORMACIÓN DE LOS DATOS \n",
    "Se realizará las siguientes transformaciones:\n",
    "- Eliminar las columnas que no serán utilizadas: video,imdb_id,adult,original_title,poster_path y homepage.\n",
    "- Los valores nulos de los campos revenue, budget deben ser rellenados por el número 0.\n",
    "- Los valores nulos del campo release date deben eliminarse.\n",
    "- De haber fechas, deberán tener el formato AAAA-mm-dd, además deberán crear la columna release_year donde extraerán el año de la fecha de estreno.\n",
    "- Crear la columna con el retorno de inversión, llamada return con los campos revenue y budget, dividiendo estas dos últimas revenue / budget, cuando no hay datos disponibles para calcularlo, deberá tomar el valor 0.\n",
    "- Desanidar los datos que sean necesarios pensando en las consultas de API y modelamiento\n",
    "\n"
   ]
  },
  {
   "cell_type": "markdown",
   "metadata": {},
   "source": [
    "**2.1 Eliminar las columnas que no serán utilizadas: video,imdb_id,adult,original_title,poster_path y homepage.**"
   ]
  },
  {
   "cell_type": "code",
   "execution_count": 334,
   "metadata": {},
   "outputs": [],
   "source": [
    "#Definimos la lista de las columnas que eliminaremos\n",
    "lista_eliminar = ['video','imdb_id','adult','original_title','poster_path','homepage']"
   ]
  },
  {
   "cell_type": "code",
   "execution_count": 335,
   "metadata": {},
   "outputs": [],
   "source": [
    "#Elimanamos las columnas con la función drop\n",
    "movies = movies.drop(columns= lista_eliminar)"
   ]
  },
  {
   "cell_type": "code",
   "execution_count": 336,
   "metadata": {},
   "outputs": [
    {
     "name": "stdout",
     "output_type": "stream",
     "text": [
      "<class 'pandas.core.frame.DataFrame'>\n",
      "RangeIndex: 45466 entries, 0 to 45465\n",
      "Data columns (total 18 columns):\n",
      " #   Column                 Non-Null Count  Dtype  \n",
      "---  ------                 --------------  -----  \n",
      " 0   belongs_to_collection  4494 non-null   object \n",
      " 1   budget                 45466 non-null  object \n",
      " 2   genres                 45466 non-null  object \n",
      " 3   id                     45466 non-null  object \n",
      " 4   original_language      45455 non-null  object \n",
      " 5   overview               44512 non-null  object \n",
      " 6   popularity             45461 non-null  object \n",
      " 7   production_companies   45463 non-null  object \n",
      " 8   production_countries   45463 non-null  object \n",
      " 9   release_date           45379 non-null  object \n",
      " 10  revenue                45460 non-null  float64\n",
      " 11  runtime                45203 non-null  float64\n",
      " 12  spoken_languages       45460 non-null  object \n",
      " 13  status                 45379 non-null  object \n",
      " 14  tagline                20412 non-null  object \n",
      " 15  title                  45460 non-null  object \n",
      " 16  vote_average           45460 non-null  float64\n",
      " 17  vote_count             45460 non-null  float64\n",
      "dtypes: float64(4), object(14)\n",
      "memory usage: 6.2+ MB\n"
     ]
    }
   ],
   "source": [
    "#Revisamos \n",
    "movies.info()"
   ]
  },
  {
   "cell_type": "markdown",
   "metadata": {},
   "source": [
    "**2.2 Los valores nulos de los campos revenue, budget deben ser rellenados por el número 0.**"
   ]
  },
  {
   "cell_type": "code",
   "execution_count": 337,
   "metadata": {},
   "outputs": [],
   "source": [
    "#Cambiamos el type de budget para poder realizar operaciones\n",
    "#errors = 'coerce' forzamos la conversión de los valores no numéricos como NaN\n",
    "movies['budget'] = pd.to_numeric(movies['budget'], errors='coerce')"
   ]
  },
  {
   "cell_type": "code",
   "execution_count": 338,
   "metadata": {},
   "outputs": [
    {
     "name": "stdout",
     "output_type": "stream",
     "text": [
      "<class 'pandas.core.frame.DataFrame'>\n",
      "RangeIndex: 45466 entries, 0 to 45465\n",
      "Data columns (total 18 columns):\n",
      " #   Column                 Non-Null Count  Dtype  \n",
      "---  ------                 --------------  -----  \n",
      " 0   belongs_to_collection  4494 non-null   object \n",
      " 1   budget                 45463 non-null  float64\n",
      " 2   genres                 45466 non-null  object \n",
      " 3   id                     45466 non-null  object \n",
      " 4   original_language      45455 non-null  object \n",
      " 5   overview               44512 non-null  object \n",
      " 6   popularity             45461 non-null  object \n",
      " 7   production_companies   45463 non-null  object \n",
      " 8   production_countries   45463 non-null  object \n",
      " 9   release_date           45379 non-null  object \n",
      " 10  revenue                45460 non-null  float64\n",
      " 11  runtime                45203 non-null  float64\n",
      " 12  spoken_languages       45460 non-null  object \n",
      " 13  status                 45379 non-null  object \n",
      " 14  tagline                20412 non-null  object \n",
      " 15  title                  45460 non-null  object \n",
      " 16  vote_average           45460 non-null  float64\n",
      " 17  vote_count             45460 non-null  float64\n",
      "dtypes: float64(5), object(13)\n",
      "memory usage: 6.2+ MB\n"
     ]
    }
   ],
   "source": [
    "movies.info()"
   ]
  },
  {
   "cell_type": "code",
   "execution_count": 339,
   "metadata": {},
   "outputs": [],
   "source": [
    "#Remplazamos null por 0 para hacer esto usamos fillna especificando los valores de las columnas. \n",
    "movies.fillna({'revenue':0, 'budget':0}, inplace=True)"
   ]
  },
  {
   "cell_type": "code",
   "execution_count": 341,
   "metadata": {},
   "outputs": [
    {
     "name": "stdout",
     "output_type": "stream",
     "text": [
      "<class 'pandas.core.frame.DataFrame'>\n",
      "RangeIndex: 45466 entries, 0 to 45465\n",
      "Data columns (total 18 columns):\n",
      " #   Column                 Non-Null Count  Dtype  \n",
      "---  ------                 --------------  -----  \n",
      " 0   belongs_to_collection  4494 non-null   object \n",
      " 1   budget                 45466 non-null  float64\n",
      " 2   genres                 45466 non-null  object \n",
      " 3   id                     45466 non-null  object \n",
      " 4   original_language      45455 non-null  object \n",
      " 5   overview               44512 non-null  object \n",
      " 6   popularity             45461 non-null  object \n",
      " 7   production_companies   45463 non-null  object \n",
      " 8   production_countries   45463 non-null  object \n",
      " 9   release_date           45379 non-null  object \n",
      " 10  revenue                45466 non-null  float64\n",
      " 11  runtime                45203 non-null  float64\n",
      " 12  spoken_languages       45460 non-null  object \n",
      " 13  status                 45379 non-null  object \n",
      " 14  tagline                20412 non-null  object \n",
      " 15  title                  45460 non-null  object \n",
      " 16  vote_average           45460 non-null  float64\n",
      " 17  vote_count             45460 non-null  float64\n",
      "dtypes: float64(5), object(13)\n",
      "memory usage: 6.2+ MB\n"
     ]
    }
   ],
   "source": [
    "#Revisamos\n",
    "movies.info()"
   ]
  },
  {
   "cell_type": "markdown",
   "metadata": {},
   "source": [
    "**2.3 Los valores nulos del campo release date deben eliminarse.**"
   ]
  },
  {
   "cell_type": "code",
   "execution_count": 342,
   "metadata": {},
   "outputs": [],
   "source": [
    "#Borramos los nulos de la columna especificando con subset\n",
    "movies.dropna(subset=['release_date'], inplace=True)"
   ]
  },
  {
   "cell_type": "code",
   "execution_count": 343,
   "metadata": {},
   "outputs": [
    {
     "name": "stdout",
     "output_type": "stream",
     "text": [
      "<class 'pandas.core.frame.DataFrame'>\n",
      "Int64Index: 45379 entries, 0 to 45465\n",
      "Data columns (total 18 columns):\n",
      " #   Column                 Non-Null Count  Dtype  \n",
      "---  ------                 --------------  -----  \n",
      " 0   belongs_to_collection  4491 non-null   object \n",
      " 1   budget                 45379 non-null  float64\n",
      " 2   genres                 45379 non-null  object \n",
      " 3   id                     45379 non-null  object \n",
      " 4   original_language      45368 non-null  object \n",
      " 5   overview               44438 non-null  object \n",
      " 6   popularity             45377 non-null  object \n",
      " 7   production_companies   45379 non-null  object \n",
      " 8   production_countries   45379 non-null  object \n",
      " 9   release_date           45379 non-null  object \n",
      " 10  revenue                45379 non-null  float64\n",
      " 11  runtime                45130 non-null  float64\n",
      " 12  spoken_languages       45376 non-null  object \n",
      " 13  status                 45296 non-null  object \n",
      " 14  tagline                20398 non-null  object \n",
      " 15  title                  45376 non-null  object \n",
      " 16  vote_average           45376 non-null  float64\n",
      " 17  vote_count             45376 non-null  float64\n",
      "dtypes: float64(5), object(13)\n",
      "memory usage: 6.6+ MB\n"
     ]
    }
   ],
   "source": [
    "#Revisamos\n",
    "movies.info()"
   ]
  },
  {
   "cell_type": "markdown",
   "metadata": {},
   "source": [
    "**2.4 De haber fechas, deberán tener el formato AAAA-mm-dd, además deberán crear la columna release_year donde extraerán el año de la fecha de estreno.**"
   ]
  },
  {
   "cell_type": "code",
   "execution_count": 344,
   "metadata": {},
   "outputs": [],
   "source": [
    "#Transformamos la columna de object a datetime\n",
    "movies['release_date'] = pd.to_datetime(movies['release_date'], format='%Y-%m-%d', errors='coerce')"
   ]
  },
  {
   "cell_type": "code",
   "execution_count": 345,
   "metadata": {},
   "outputs": [],
   "source": [
    "#Extraemos el año en una nueva columna \n",
    "movies['release_year'] = movies['release_date'].dt.year.astype('Int64')"
   ]
  },
  {
   "cell_type": "code",
   "execution_count": 346,
   "metadata": {},
   "outputs": [],
   "source": [
    "#Eliminamos la parte horaria de le fecha para que quede en el formato especificado\n",
    "movies['release_date'] = movies['release_date'].dt.date"
   ]
  },
  {
   "cell_type": "code",
   "execution_count": 347,
   "metadata": {},
   "outputs": [
    {
     "name": "stdout",
     "output_type": "stream",
     "text": [
      "2005-01-25\n",
      "<class 'datetime.date'>\n"
     ]
    }
   ],
   "source": [
    "#En la elaboración habia datos que no corrian, comprobamos la que nos arrojaba error para continuar\n",
    "print(movies.iloc[10395]['release_date'])\n",
    "print(type(movies.iloc[10395]['release_date']))"
   ]
  },
  {
   "cell_type": "code",
   "execution_count": 348,
   "metadata": {},
   "outputs": [
    {
     "name": "stdout",
     "output_type": "stream",
     "text": [
      "<class 'pandas.core.frame.DataFrame'>\n",
      "Int64Index: 45379 entries, 0 to 45465\n",
      "Data columns (total 19 columns):\n",
      " #   Column                 Non-Null Count  Dtype  \n",
      "---  ------                 --------------  -----  \n",
      " 0   belongs_to_collection  4491 non-null   object \n",
      " 1   budget                 45379 non-null  float64\n",
      " 2   genres                 45379 non-null  object \n",
      " 3   id                     45379 non-null  object \n",
      " 4   original_language      45368 non-null  object \n",
      " 5   overview               44438 non-null  object \n",
      " 6   popularity             45377 non-null  object \n",
      " 7   production_companies   45379 non-null  object \n",
      " 8   production_countries   45379 non-null  object \n",
      " 9   release_date           45376 non-null  object \n",
      " 10  revenue                45379 non-null  float64\n",
      " 11  runtime                45130 non-null  float64\n",
      " 12  spoken_languages       45376 non-null  object \n",
      " 13  status                 45296 non-null  object \n",
      " 14  tagline                20398 non-null  object \n",
      " 15  title                  45376 non-null  object \n",
      " 16  vote_average           45376 non-null  float64\n",
      " 17  vote_count             45376 non-null  float64\n",
      " 18  release_year           45376 non-null  Int64  \n",
      "dtypes: Int64(1), float64(5), object(13)\n",
      "memory usage: 7.0+ MB\n"
     ]
    }
   ],
   "source": [
    "#Revisamos\n",
    "movies.info()"
   ]
  },
  {
   "cell_type": "code",
   "execution_count": 349,
   "metadata": {},
   "outputs": [],
   "source": [
    "#Debido a que por la transformación aparecieron valores nulos, se borran de nuevo.\n",
    "movies.dropna(subset=['release_date'], inplace=True)"
   ]
  },
  {
   "cell_type": "code",
   "execution_count": 350,
   "metadata": {},
   "outputs": [
    {
     "name": "stdout",
     "output_type": "stream",
     "text": [
      "<class 'pandas.core.frame.DataFrame'>\n",
      "Int64Index: 45376 entries, 0 to 45465\n",
      "Data columns (total 19 columns):\n",
      " #   Column                 Non-Null Count  Dtype  \n",
      "---  ------                 --------------  -----  \n",
      " 0   belongs_to_collection  4488 non-null   object \n",
      " 1   budget                 45376 non-null  float64\n",
      " 2   genres                 45376 non-null  object \n",
      " 3   id                     45376 non-null  object \n",
      " 4   original_language      45365 non-null  object \n",
      " 5   overview               44435 non-null  object \n",
      " 6   popularity             45376 non-null  object \n",
      " 7   production_companies   45376 non-null  object \n",
      " 8   production_countries   45376 non-null  object \n",
      " 9   release_date           45376 non-null  object \n",
      " 10  revenue                45376 non-null  float64\n",
      " 11  runtime                45130 non-null  float64\n",
      " 12  spoken_languages       45376 non-null  object \n",
      " 13  status                 45296 non-null  object \n",
      " 14  tagline                20398 non-null  object \n",
      " 15  title                  45376 non-null  object \n",
      " 16  vote_average           45376 non-null  float64\n",
      " 17  vote_count             45376 non-null  float64\n",
      " 18  release_year           45376 non-null  Int64  \n",
      "dtypes: Int64(1), float64(5), object(13)\n",
      "memory usage: 7.0+ MB\n"
     ]
    }
   ],
   "source": [
    "#Verificamos\n",
    "movies.info()"
   ]
  },
  {
   "cell_type": "markdown",
   "metadata": {},
   "source": [
    "**2.5 Crear la columna con el retorno de inversión, llamada return con los campos revenue y budget, dividiendo estas dos últimas revenue / budget, cuando no hay datos disponibles para calcularlo, deberá tomar el valor 0.**"
   ]
  },
  {
   "cell_type": "code",
   "execution_count": 351,
   "metadata": {},
   "outputs": [],
   "source": [
    "#Para la división usaré 3 funciones que garanticen el codigo\n",
    "#\"divide\" permite hacer la división, \"replace\" para cambiar los valores infinitos producto de los 0 y \"fillna\" para rellenar 0\n",
    "movies['return'] = movies['revenue'].divide(movies['budget']).replace([np.inf, -np.inf],0).fillna(0)"
   ]
  },
  {
   "cell_type": "code",
   "execution_count": 352,
   "metadata": {},
   "outputs": [
    {
     "name": "stdout",
     "output_type": "stream",
     "text": [
      "<class 'pandas.core.frame.DataFrame'>\n",
      "Int64Index: 45376 entries, 0 to 45465\n",
      "Data columns (total 20 columns):\n",
      " #   Column                 Non-Null Count  Dtype  \n",
      "---  ------                 --------------  -----  \n",
      " 0   belongs_to_collection  4488 non-null   object \n",
      " 1   budget                 45376 non-null  float64\n",
      " 2   genres                 45376 non-null  object \n",
      " 3   id                     45376 non-null  object \n",
      " 4   original_language      45365 non-null  object \n",
      " 5   overview               44435 non-null  object \n",
      " 6   popularity             45376 non-null  object \n",
      " 7   production_companies   45376 non-null  object \n",
      " 8   production_countries   45376 non-null  object \n",
      " 9   release_date           45376 non-null  object \n",
      " 10  revenue                45376 non-null  float64\n",
      " 11  runtime                45130 non-null  float64\n",
      " 12  spoken_languages       45376 non-null  object \n",
      " 13  status                 45296 non-null  object \n",
      " 14  tagline                20398 non-null  object \n",
      " 15  title                  45376 non-null  object \n",
      " 16  vote_average           45376 non-null  float64\n",
      " 17  vote_count             45376 non-null  float64\n",
      " 18  release_year           45376 non-null  Int64  \n",
      " 19  return                 45376 non-null  float64\n",
      "dtypes: Int64(1), float64(6), object(13)\n",
      "memory usage: 7.3+ MB\n"
     ]
    }
   ],
   "source": [
    "#Revisamos\n",
    "movies.info()"
   ]
  },
  {
   "cell_type": "code",
   "execution_count": 400,
   "metadata": {},
   "outputs": [
    {
     "data": {
      "text/plain": [
       "2655     0.000000\n",
       "12899    0.000000\n",
       "10134    3.118040\n",
       "24042    0.000000\n",
       "1531     0.849350\n",
       "26455    0.000000\n",
       "36189    0.000000\n",
       "25716    0.000000\n",
       "1948     0.000000\n",
       "3045     0.092961\n",
       "Name: return, dtype: float64"
      ]
     },
     "execution_count": 400,
     "metadata": {},
     "output_type": "execute_result"
    }
   ],
   "source": [
    "movies['return'].sample(10)"
   ]
  },
  {
   "cell_type": "markdown",
   "metadata": {},
   "source": [
    "**2.6 Desanidar los datos que sean necesarios pensando en las consultas de API y modelamiento**"
   ]
  },
  {
   "cell_type": "code",
   "execution_count": 401,
   "metadata": {},
   "outputs": [
    {
     "data": {
      "text/html": [
       "<div>\n",
       "<style scoped>\n",
       "    .dataframe tbody tr th:only-of-type {\n",
       "        vertical-align: middle;\n",
       "    }\n",
       "\n",
       "    .dataframe tbody tr th {\n",
       "        vertical-align: top;\n",
       "    }\n",
       "\n",
       "    .dataframe thead th {\n",
       "        text-align: right;\n",
       "    }\n",
       "</style>\n",
       "<table border=\"1\" class=\"dataframe\">\n",
       "  <thead>\n",
       "    <tr style=\"text-align: right;\">\n",
       "      <th></th>\n",
       "      <th>belongs_to_collection</th>\n",
       "      <th>budget</th>\n",
       "      <th>genres</th>\n",
       "      <th>id</th>\n",
       "      <th>original_language</th>\n",
       "      <th>overview</th>\n",
       "      <th>popularity</th>\n",
       "      <th>production_companies</th>\n",
       "      <th>production_countries</th>\n",
       "      <th>release_date</th>\n",
       "      <th>revenue</th>\n",
       "      <th>runtime</th>\n",
       "      <th>spoken_languages</th>\n",
       "      <th>status</th>\n",
       "      <th>tagline</th>\n",
       "      <th>title</th>\n",
       "      <th>vote_average</th>\n",
       "      <th>vote_count</th>\n",
       "      <th>release_year</th>\n",
       "      <th>return</th>\n",
       "    </tr>\n",
       "  </thead>\n",
       "  <tbody>\n",
       "    <tr>\n",
       "      <th>0</th>\n",
       "      <td>{'id': 10194, 'name': 'Toy Story Collection', ...</td>\n",
       "      <td>30000000.0</td>\n",
       "      <td>[{'id': 16, 'name': 'Animation'}, {'id': 35, '...</td>\n",
       "      <td>862</td>\n",
       "      <td>en</td>\n",
       "      <td>Led by Woody, Andy's toys live happily in his ...</td>\n",
       "      <td>21.946943</td>\n",
       "      <td>[{'name': 'Pixar Animation Studios', 'id': 3}]</td>\n",
       "      <td>[{'iso_3166_1': 'US', 'name': 'United States o...</td>\n",
       "      <td>1995-10-30</td>\n",
       "      <td>373554033.0</td>\n",
       "      <td>81.0</td>\n",
       "      <td>[{'iso_639_1': 'en', 'name': 'English'}]</td>\n",
       "      <td>Released</td>\n",
       "      <td>NaN</td>\n",
       "      <td>Toy Story</td>\n",
       "      <td>7.7</td>\n",
       "      <td>5415.0</td>\n",
       "      <td>1995</td>\n",
       "      <td>12.451801</td>\n",
       "    </tr>\n",
       "    <tr>\n",
       "      <th>1</th>\n",
       "      <td>NaN</td>\n",
       "      <td>65000000.0</td>\n",
       "      <td>[{'id': 12, 'name': 'Adventure'}, {'id': 14, '...</td>\n",
       "      <td>8844</td>\n",
       "      <td>en</td>\n",
       "      <td>When siblings Judy and Peter discover an encha...</td>\n",
       "      <td>17.015539</td>\n",
       "      <td>[{'name': 'TriStar Pictures', 'id': 559}, {'na...</td>\n",
       "      <td>[{'iso_3166_1': 'US', 'name': 'United States o...</td>\n",
       "      <td>1995-12-15</td>\n",
       "      <td>262797249.0</td>\n",
       "      <td>104.0</td>\n",
       "      <td>[{'iso_639_1': 'en', 'name': 'English'}, {'iso...</td>\n",
       "      <td>Released</td>\n",
       "      <td>Roll the dice and unleash the excitement!</td>\n",
       "      <td>Jumanji</td>\n",
       "      <td>6.9</td>\n",
       "      <td>2413.0</td>\n",
       "      <td>1995</td>\n",
       "      <td>4.043035</td>\n",
       "    </tr>\n",
       "    <tr>\n",
       "      <th>2</th>\n",
       "      <td>{'id': 119050, 'name': 'Grumpy Old Men Collect...</td>\n",
       "      <td>0.0</td>\n",
       "      <td>[{'id': 10749, 'name': 'Romance'}, {'id': 35, ...</td>\n",
       "      <td>15602</td>\n",
       "      <td>en</td>\n",
       "      <td>A family wedding reignites the ancient feud be...</td>\n",
       "      <td>11.7129</td>\n",
       "      <td>[{'name': 'Warner Bros.', 'id': 6194}, {'name'...</td>\n",
       "      <td>[{'iso_3166_1': 'US', 'name': 'United States o...</td>\n",
       "      <td>1995-12-22</td>\n",
       "      <td>0.0</td>\n",
       "      <td>101.0</td>\n",
       "      <td>[{'iso_639_1': 'en', 'name': 'English'}]</td>\n",
       "      <td>Released</td>\n",
       "      <td>Still Yelling. Still Fighting. Still Ready for...</td>\n",
       "      <td>Grumpier Old Men</td>\n",
       "      <td>6.5</td>\n",
       "      <td>92.0</td>\n",
       "      <td>1995</td>\n",
       "      <td>0.000000</td>\n",
       "    </tr>\n",
       "  </tbody>\n",
       "</table>\n",
       "</div>"
      ],
      "text/plain": [
       "                               belongs_to_collection      budget  \\\n",
       "0  {'id': 10194, 'name': 'Toy Story Collection', ...  30000000.0   \n",
       "1                                                NaN  65000000.0   \n",
       "2  {'id': 119050, 'name': 'Grumpy Old Men Collect...         0.0   \n",
       "\n",
       "                                              genres     id original_language  \\\n",
       "0  [{'id': 16, 'name': 'Animation'}, {'id': 35, '...    862                en   \n",
       "1  [{'id': 12, 'name': 'Adventure'}, {'id': 14, '...   8844                en   \n",
       "2  [{'id': 10749, 'name': 'Romance'}, {'id': 35, ...  15602                en   \n",
       "\n",
       "                                            overview popularity  \\\n",
       "0  Led by Woody, Andy's toys live happily in his ...  21.946943   \n",
       "1  When siblings Judy and Peter discover an encha...  17.015539   \n",
       "2  A family wedding reignites the ancient feud be...    11.7129   \n",
       "\n",
       "                                production_companies  \\\n",
       "0     [{'name': 'Pixar Animation Studios', 'id': 3}]   \n",
       "1  [{'name': 'TriStar Pictures', 'id': 559}, {'na...   \n",
       "2  [{'name': 'Warner Bros.', 'id': 6194}, {'name'...   \n",
       "\n",
       "                                production_countries release_date  \\\n",
       "0  [{'iso_3166_1': 'US', 'name': 'United States o...   1995-10-30   \n",
       "1  [{'iso_3166_1': 'US', 'name': 'United States o...   1995-12-15   \n",
       "2  [{'iso_3166_1': 'US', 'name': 'United States o...   1995-12-22   \n",
       "\n",
       "       revenue  runtime                                   spoken_languages  \\\n",
       "0  373554033.0     81.0           [{'iso_639_1': 'en', 'name': 'English'}]   \n",
       "1  262797249.0    104.0  [{'iso_639_1': 'en', 'name': 'English'}, {'iso...   \n",
       "2          0.0    101.0           [{'iso_639_1': 'en', 'name': 'English'}]   \n",
       "\n",
       "     status                                            tagline  \\\n",
       "0  Released                                                NaN   \n",
       "1  Released          Roll the dice and unleash the excitement!   \n",
       "2  Released  Still Yelling. Still Fighting. Still Ready for...   \n",
       "\n",
       "              title  vote_average  vote_count  release_year     return  \n",
       "0         Toy Story           7.7      5415.0          1995  12.451801  \n",
       "1           Jumanji           6.9      2413.0          1995   4.043035  \n",
       "2  Grumpier Old Men           6.5        92.0          1995   0.000000  "
      ]
     },
     "execution_count": 401,
     "metadata": {},
     "output_type": "execute_result"
    }
   ],
   "source": [
    "#Primero examiné las columnas anidadas para determinar su formato y los datos que son necesarios\n",
    "movies.head(3)"
   ]
  },
  {
   "cell_type": "code",
   "execution_count": 402,
   "metadata": {},
   "outputs": [
    {
     "data": {
      "text/plain": [
       "array([nan, nan,\n",
       "       \"{'id': 183256, 'name': 'Kiler Collection', 'poster_path': '/vEFCE3Dn9AndelMIfk9OsRUY5Of.jpg', 'backdrop_path': None}\",\n",
       "       nan, nan], dtype=object)"
      ]
     },
     "execution_count": 402,
     "metadata": {},
     "output_type": "execute_result"
    }
   ],
   "source": [
    "#belongs_to_collection,contiene diccionarios en su mayoria datos nulos, información importante: name\n",
    "movies['belongs_to_collection'].sample(5).values"
   ]
  },
  {
   "cell_type": "code",
   "execution_count": 403,
   "metadata": {},
   "outputs": [
    {
     "data": {
      "text/plain": [
       "array([\"[{'id': 27, 'name': 'Horror'}]\",\n",
       "       \"[{'id': 28, 'name': 'Action'}, {'id': 12, 'name': 'Adventure'}, {'id': 18, 'name': 'Drama'}]\",\n",
       "       '[]', \"[{'id': 18, 'name': 'Drama'}]\",\n",
       "       \"[{'id': 18, 'name': 'Drama'}, {'id': 10749, 'name': 'Romance'}]\"],\n",
       "      dtype=object)"
      ]
     },
     "execution_count": 403,
     "metadata": {},
     "output_type": "execute_result"
    }
   ],
   "source": [
    "#genres, contiene listas de diccionarios, información importante: name\n",
    "movies['genres'].sample(5).values"
   ]
  },
  {
   "cell_type": "code",
   "execution_count": 426,
   "metadata": {},
   "outputs": [
    {
     "data": {
      "text/plain": [
       "array([\"[{'name': 'CJ Entertainment', 'id': 7036}]\",\n",
       "       \"[{'name': 'Seasonal Film Corporation', 'id': 13433}, {'name': 'Shapiro-Glickenhaus Entertainment', 'id': 16636}]\",\n",
       "       '[]', '[]',\n",
       "       '[{\\'name\\': \"Institut National de l\\'Audiovisuel (INA)\", \\'id\\': 8171}]'],\n",
       "      dtype=object)"
      ]
     },
     "execution_count": 426,
     "metadata": {},
     "output_type": "execute_result"
    }
   ],
   "source": [
    "#production_companies, contiene listas de diccionarios, información importante: name\n",
    "movies['production_companies'].sample(5).values"
   ]
  },
  {
   "cell_type": "code",
   "execution_count": 430,
   "metadata": {},
   "outputs": [
    {
     "data": {
      "text/plain": [
       "array([\"[{'iso_3166_1': 'CA', 'name': 'Canada'}, {'iso_3166_1': 'US', 'name': 'United States of America'}]\",\n",
       "       \"[{'iso_3166_1': 'US', 'name': 'United States of America'}]\",\n",
       "       \"[{'iso_3166_1': 'FR', 'name': 'France'}, {'iso_3166_1': 'DE', 'name': 'Germany'}, {'iso_3166_1': 'IT', 'name': 'Italy'}, {'iso_3166_1': 'US', 'name': 'United States of America'}]\",\n",
       "       '[]', \"[{'iso_3166_1': 'US', 'name': 'United States of America'}]\"],\n",
       "      dtype=object)"
      ]
     },
     "execution_count": 430,
     "metadata": {},
     "output_type": "execute_result"
    }
   ],
   "source": [
    "#production_countries, contiene listas de diccionario, información importante: name\n",
    "movies['production_countries'].sample(5).values"
   ]
  },
  {
   "cell_type": "code",
   "execution_count": 432,
   "metadata": {},
   "outputs": [
    {
     "data": {
      "text/plain": [
       "array(['[]', \"[{'iso_639_1': 'en', 'name': 'English'}]\",\n",
       "       \"[{'iso_639_1': 'en', 'name': 'English'}]\",\n",
       "       \"[{'iso_639_1': 'en', 'name': 'English'}]\",\n",
       "       \"[{'iso_639_1': 'en', 'name': 'English'}]\"], dtype=object)"
      ]
     },
     "execution_count": 432,
     "metadata": {},
     "output_type": "execute_result"
    }
   ],
   "source": [
    "#spoken_languages, contiene listas de diccionarios, información importante: name \n",
    "movies['spoken_languages'].sample(5).values"
   ]
  },
  {
   "cell_type": "markdown",
   "metadata": {},
   "source": [
    "**Conclusión:** \n",
    "- Todas tienen en común que son diccionarios donde el dato que necesito es la key \"name\". Se podría hacer una función que al llamarla acceda a esa key. \n",
    "\n",
    " "
   ]
  },
  {
   "cell_type": "markdown",
   "metadata": {},
   "source": [
    "- Se creara otra columna a partir de 'belongs_to_collection'. Para el resto creare una función que me permita acceder a estos valores name y coleccionarlos en string  "
   ]
  },
  {
   "cell_type": "code",
   "execution_count": 433,
   "metadata": {},
   "outputs": [],
   "source": [
    "#Importamos una lib que nos permite manipular el código fuente de python para recorrer los diccionarios\n",
    "import ast"
   ]
  },
  {
   "cell_type": "markdown",
   "metadata": {},
   "source": [
    "**2.6.1 Columna Belongs_to_collection**"
   ]
  },
  {
   "cell_type": "code",
   "execution_count": 434,
   "metadata": {},
   "outputs": [],
   "source": [
    "#Con la función lambda primero se condiciona el formato del dato y de ser nulo se rellena con None\n",
    "movies['belongs_to_collection'] = movies['belongs_to_collection'].apply(lambda x: ast.literal_eval(x) \n",
    "                                                                        if pd.notnull(x) else 'None')"
   ]
  },
  {
   "cell_type": "code",
   "execution_count": 435,
   "metadata": {},
   "outputs": [],
   "source": [
    "#Lambda tambien puede ser aplicado para extraer el valor de la key 'name'\n",
    "movies['collection'] = movies['belongs_to_collection'].apply(lambda x: x.get('name', '')\n",
    "                                                              if isinstance(x, dict) else 'None')"
   ]
  },
  {
   "cell_type": "code",
   "execution_count": 438,
   "metadata": {},
   "outputs": [
    {
     "data": {
      "text/plain": [
       "22226                             None\n",
       "30887    Hellboy (Animated) Collection\n",
       "3395                              None\n",
       "33119                             None\n",
       "17117                             None\n",
       "28358                             None\n",
       "11010                Clerks Collection\n",
       "45404                             None\n",
       "25796                             None\n",
       "6209                              None\n",
       "Name: collection, dtype: object"
      ]
     },
     "execution_count": 438,
     "metadata": {},
     "output_type": "execute_result"
    }
   ],
   "source": [
    "#Revisamos\n",
    "movies.collection.sample(10)"
   ]
  },
  {
   "cell_type": "code",
   "execution_count": 439,
   "metadata": {},
   "outputs": [
    {
     "name": "stdout",
     "output_type": "stream",
     "text": [
      "<class 'pandas.core.frame.DataFrame'>\n",
      "Int64Index: 45376 entries, 0 to 45465\n",
      "Data columns (total 21 columns):\n",
      " #   Column                 Non-Null Count  Dtype  \n",
      "---  ------                 --------------  -----  \n",
      " 0   belongs_to_collection  45376 non-null  object \n",
      " 1   budget                 45376 non-null  float64\n",
      " 2   genres                 45376 non-null  object \n",
      " 3   id                     45376 non-null  object \n",
      " 4   original_language      45365 non-null  object \n",
      " 5   overview               44435 non-null  object \n",
      " 6   popularity             45376 non-null  object \n",
      " 7   production_companies   45376 non-null  object \n",
      " 8   production_countries   45376 non-null  object \n",
      " 9   release_date           45376 non-null  object \n",
      " 10  revenue                45376 non-null  float64\n",
      " 11  runtime                45130 non-null  float64\n",
      " 12  spoken_languages       45376 non-null  object \n",
      " 13  status                 45296 non-null  object \n",
      " 14  tagline                20398 non-null  object \n",
      " 15  title                  45376 non-null  object \n",
      " 16  vote_average           45376 non-null  float64\n",
      " 17  vote_count             45376 non-null  float64\n",
      " 18  release_year           45376 non-null  Int64  \n",
      " 19  return                 45376 non-null  float64\n",
      " 20  collection             45376 non-null  object \n",
      "dtypes: Int64(1), float64(6), object(14)\n",
      "memory usage: 7.7+ MB\n"
     ]
    }
   ],
   "source": [
    "movies.info()"
   ]
  },
  {
   "cell_type": "markdown",
   "metadata": {},
   "source": [
    "**2.6.2 Tratamiento de datos anidados en listas de diccionarios de movies**\n",
    "- Se buscará aplicar una función que permita obtener una cadena string con los valores necesarios de las distintas columnas con listas de diccionarios. Previo a ello se hará uso de la biblioteca ast para poder tratar el dato como diccionario. "
   ]
  },
  {
   "cell_type": "markdown",
   "metadata": {},
   "source": [
    "- Definimos función para todos los casos de listas de diccionarios"
   ]
  },
  {
   "cell_type": "code",
   "execution_count": 440,
   "metadata": {},
   "outputs": [],
   "source": [
    "def obtener_valores(lista_diccionario):\n",
    "    \"\"\"Función que recibe de argumento una lista de diccionarios y \n",
    "        y devuelve un String concatenado de estos valores \"\"\"\n",
    "    valores_name = []\n",
    "    for diccionario in lista_diccionario:\n",
    "        if isinstance(diccionario, dict) and \"name\" in diccionario:\n",
    "            valores_name.append(diccionario[\"name\"])\n",
    "    return \", \".join(valores_name)"
   ]
  },
  {
   "cell_type": "markdown",
   "metadata": {},
   "source": [
    "- **Generos**"
   ]
  },
  {
   "cell_type": "code",
   "execution_count": 441,
   "metadata": {},
   "outputs": [],
   "source": [
    "#Definimos el tipo de dato de la columna genres como lista de diccionarios\n",
    "movies['genres'] = movies['genres'].apply(ast.literal_eval)"
   ]
  },
  {
   "cell_type": "code",
   "execution_count": 442,
   "metadata": {},
   "outputs": [],
   "source": [
    "#Creación de columna y aplicación de función \n",
    "movies['genre'] = movies['genres'].apply(obtener_valores)\n"
   ]
  },
  {
   "cell_type": "code",
   "execution_count": 447,
   "metadata": {},
   "outputs": [
    {
     "data": {
      "text/plain": [
       "26399                                      Comedy\n",
       "1499     Science Fiction, Horror, Drama, Thriller\n",
       "28624     Action, Crime, Drama, Mystery, Thriller\n",
       "44364                   Thriller, Comedy, Mystery\n",
       "703                               Comedy, Foreign\n",
       "27888                                Drama, Crime\n",
       "15658                                 Documentary\n",
       "45127                                       Drama\n",
       "12838                     Crime, Horror, Thriller\n",
       "19251                           Mystery, Thriller\n",
       "Name: genre, dtype: object"
      ]
     },
     "execution_count": 447,
     "metadata": {},
     "output_type": "execute_result"
    }
   ],
   "source": [
    "movies['genre'].sample(10)"
   ]
  },
  {
   "cell_type": "code",
   "execution_count": 448,
   "metadata": {},
   "outputs": [],
   "source": [
    "#Tratamos los valores '' aplicando una función lambda condicional que cambia '' de existir por el valor None\n",
    "movies['genre'] = movies['genre'].apply(lambda x: 'None'if x == '' else x )"
   ]
  },
  {
   "cell_type": "code",
   "execution_count": 462,
   "metadata": {},
   "outputs": [
    {
     "data": {
      "text/plain": [
       "17576    Drama\n",
       "9270     Drama\n",
       "18503     None\n",
       "Name: genre, dtype: object"
      ]
     },
     "execution_count": 462,
     "metadata": {},
     "output_type": "execute_result"
    }
   ],
   "source": [
    "movies['genre'].sample(3)"
   ]
  },
  {
   "cell_type": "markdown",
   "metadata": {},
   "source": [
    "- **production_companies**"
   ]
  },
  {
   "cell_type": "code",
   "execution_count": 463,
   "metadata": {},
   "outputs": [],
   "source": [
    "#Definimos el tipo de dato de la columna production_companies como lista de diccionarios\n",
    "movies['production_companies'] = movies['production_companies'].apply(ast.literal_eval)"
   ]
  },
  {
   "cell_type": "code",
   "execution_count": 464,
   "metadata": {},
   "outputs": [],
   "source": [
    "#Creación de columna y aplicación de función \n",
    "movies['companies'] = movies['production_companies'].apply(obtener_valores)"
   ]
  },
  {
   "cell_type": "code",
   "execution_count": 473,
   "metadata": {},
   "outputs": [
    {
     "data": {
      "text/plain": [
       "23423    Mad Dog Pictures, Spring Pictures\n",
       "38547                                     \n",
       "13956                                     \n",
       "40456                 Walt Disney Pictures\n",
       "1806                                      \n",
       "12301           Merchant Ivory Productions\n",
       "41893                   Pathé Distribution\n",
       "26724                                     \n",
       "13885               Caprino Filmcenter a/s\n",
       "8702                          Latglen Ltd.\n",
       "Name: companies, dtype: object"
      ]
     },
     "execution_count": 473,
     "metadata": {},
     "output_type": "execute_result"
    }
   ],
   "source": [
    "movies['companies'].sample(3)"
   ]
  },
  {
   "cell_type": "code",
   "execution_count": 474,
   "metadata": {},
   "outputs": [],
   "source": [
    "#Tratamos los valores '' aplicando una función lambda condicional que cambia '' de existir por el valor None\n",
    "movies['companies'] = movies['companies'].apply(lambda x: 'None'if x == '' else x )"
   ]
  },
  {
   "cell_type": "code",
   "execution_count": 481,
   "metadata": {},
   "outputs": [
    {
     "data": {
      "text/plain": [
       "19996    Angoa-Agicoa, Procirep, Canal+, CinéCinéma, Ré...\n",
       "42175    DNA Films, TriStar Pictures, Cloud Eight Films...\n",
       "16414                                                 None\n",
       "Name: companies, dtype: object"
      ]
     },
     "execution_count": 481,
     "metadata": {},
     "output_type": "execute_result"
    }
   ],
   "source": [
    "movies['companies'].sample(3)"
   ]
  },
  {
   "cell_type": "markdown",
   "metadata": {},
   "source": [
    "- **production_countries**"
   ]
  },
  {
   "cell_type": "code",
   "execution_count": 482,
   "metadata": {},
   "outputs": [],
   "source": [
    "#Definimos el tipo de dato de la columna production_countries como lista de diccionarios\n",
    "movies['production_countries'] = movies['production_countries'].apply(ast.literal_eval)"
   ]
  },
  {
   "cell_type": "code",
   "execution_count": 483,
   "metadata": {},
   "outputs": [],
   "source": [
    "#Creación de columna y aplicación de función \n",
    "movies['production_countrie'] = movies['production_countries'].apply(obtener_valores)"
   ]
  },
  {
   "cell_type": "code",
   "execution_count": 488,
   "metadata": {},
   "outputs": [
    {
     "data": {
      "text/plain": [
       "4248                   \n",
       "33495    United Kingdom\n",
       "41615            Israel\n",
       "Name: production_countrie, dtype: object"
      ]
     },
     "execution_count": 488,
     "metadata": {},
     "output_type": "execute_result"
    }
   ],
   "source": [
    "movies['production_countrie'].sample(3)"
   ]
  },
  {
   "cell_type": "code",
   "execution_count": 489,
   "metadata": {},
   "outputs": [],
   "source": [
    "#Tratamos los valores '' aplicando una función lambda condicional que cambia '' de existir por el valor None\n",
    "movies['production_countrie'] = movies['production_countrie'].apply(lambda x: 'None'if x == '' else x )"
   ]
  },
  {
   "cell_type": "code",
   "execution_count": 490,
   "metadata": {},
   "outputs": [
    {
     "data": {
      "text/plain": [
       "24324                        None\n",
       "26907    United States of America\n",
       "840      United States of America\n",
       "Name: production_countrie, dtype: object"
      ]
     },
     "execution_count": 490,
     "metadata": {},
     "output_type": "execute_result"
    }
   ],
   "source": [
    "movies['production_countrie'].sample(3)"
   ]
  },
  {
   "cell_type": "markdown",
   "metadata": {},
   "source": [
    "- **spoken_languages**"
   ]
  },
  {
   "cell_type": "code",
   "execution_count": 491,
   "metadata": {},
   "outputs": [],
   "source": [
    "#Definimos el tipo de dato de la columna spoken_languages como lista de diccionarios\n",
    "movies['spoken_languages'] = movies['spoken_languages'].apply(ast.literal_eval)"
   ]
  },
  {
   "cell_type": "code",
   "execution_count": 492,
   "metadata": {},
   "outputs": [],
   "source": [
    "#Creación de columna y aplicación de función \n",
    "movies['spoken_language'] = movies['spoken_languages'].apply(obtener_valores)"
   ]
  },
  {
   "cell_type": "code",
   "execution_count": 496,
   "metadata": {},
   "outputs": [
    {
     "data": {
      "text/plain": [
       "33835    한국어/조선말\n",
       "18345           \n",
       "3928     English\n",
       "Name: spoken_language, dtype: object"
      ]
     },
     "execution_count": 496,
     "metadata": {},
     "output_type": "execute_result"
    }
   ],
   "source": [
    "movies['spoken_language'].sample(3)"
   ]
  },
  {
   "cell_type": "code",
   "execution_count": 497,
   "metadata": {},
   "outputs": [],
   "source": [
    "#Tratamos los valores '' aplicando una función lambda condicional que cambia '' de existir por el valor None\n",
    "movies['spoken_language'] = movies['spoken_language'].apply(lambda x: 'None'if x == '' else x )"
   ]
  },
  {
   "cell_type": "code",
   "execution_count": 504,
   "metadata": {},
   "outputs": [
    {
     "data": {
      "text/plain": [
       "19671                                                 None\n",
       "27109                                              English\n",
       "33704    English, Français, Deutsch, Italiano, 日本語, 한국어...\n",
       "Name: spoken_language, dtype: object"
      ]
     },
     "execution_count": 504,
     "metadata": {},
     "output_type": "execute_result"
    }
   ],
   "source": [
    "movies['spoken_language'].sample(3)"
   ]
  },
  {
   "cell_type": "markdown",
   "metadata": {},
   "source": [
    "**2.6.3 Desanidado de la columna crew en el dataset credits buscando el valor del director**\n",
    "- Se analizara el dato a desanidar, se definira una función para que busque el nombre del director y se acoplara la columna al dataset movies. "
   ]
  },
  {
   "cell_type": "markdown",
   "metadata": {},
   "source": [
    "- Analisis de dataset"
   ]
  },
  {
   "cell_type": "code",
   "execution_count": 514,
   "metadata": {},
   "outputs": [
    {
     "data": {
      "text/html": [
       "<div>\n",
       "<style scoped>\n",
       "    .dataframe tbody tr th:only-of-type {\n",
       "        vertical-align: middle;\n",
       "    }\n",
       "\n",
       "    .dataframe tbody tr th {\n",
       "        vertical-align: top;\n",
       "    }\n",
       "\n",
       "    .dataframe thead th {\n",
       "        text-align: right;\n",
       "    }\n",
       "</style>\n",
       "<table border=\"1\" class=\"dataframe\">\n",
       "  <thead>\n",
       "    <tr style=\"text-align: right;\">\n",
       "      <th></th>\n",
       "      <th>cast</th>\n",
       "      <th>crew</th>\n",
       "      <th>id</th>\n",
       "    </tr>\n",
       "  </thead>\n",
       "  <tbody>\n",
       "    <tr>\n",
       "      <th>5744</th>\n",
       "      <td>[{'cast_id': 1, 'character': 'Jim Hawkins (voi...</td>\n",
       "      <td>[{'credit_id': '52fe44d1c3a36847f80abe45', 'de...</td>\n",
       "      <td>9016</td>\n",
       "    </tr>\n",
       "    <tr>\n",
       "      <th>43156</th>\n",
       "      <td>[{'cast_id': 0, 'character': '', 'credit_id': ...</td>\n",
       "      <td>[{'credit_id': '5849ed3692514119af018478', 'de...</td>\n",
       "      <td>429450</td>\n",
       "    </tr>\n",
       "    <tr>\n",
       "      <th>18312</th>\n",
       "      <td>[{'cast_id': 4, 'character': \"James 'Jim' Fisk...</td>\n",
       "      <td>[{'credit_id': '573f6953c3a3683bd6000631', 'de...</td>\n",
       "      <td>52359</td>\n",
       "    </tr>\n",
       "  </tbody>\n",
       "</table>\n",
       "</div>"
      ],
      "text/plain": [
       "                                                    cast  \\\n",
       "5744   [{'cast_id': 1, 'character': 'Jim Hawkins (voi...   \n",
       "43156  [{'cast_id': 0, 'character': '', 'credit_id': ...   \n",
       "18312  [{'cast_id': 4, 'character': \"James 'Jim' Fisk...   \n",
       "\n",
       "                                                    crew      id  \n",
       "5744   [{'credit_id': '52fe44d1c3a36847f80abe45', 'de...    9016  \n",
       "43156  [{'credit_id': '5849ed3692514119af018478', 'de...  429450  \n",
       "18312  [{'credit_id': '573f6953c3a3683bd6000631', 'de...   52359  "
      ]
     },
     "execution_count": 514,
     "metadata": {},
     "output_type": "execute_result"
    }
   ],
   "source": [
    "creditos.sample(3)"
   ]
  },
  {
   "cell_type": "code",
   "execution_count": 506,
   "metadata": {},
   "outputs": [
    {
     "name": "stdout",
     "output_type": "stream",
     "text": [
      "<class 'pandas.core.frame.DataFrame'>\n",
      "RangeIndex: 45476 entries, 0 to 45475\n",
      "Data columns (total 3 columns):\n",
      " #   Column  Non-Null Count  Dtype \n",
      "---  ------  --------------  ----- \n",
      " 0   cast    45476 non-null  object\n",
      " 1   crew    45476 non-null  object\n",
      " 2   id      45476 non-null  int64 \n",
      "dtypes: int64(1), object(2)\n",
      "memory usage: 1.0+ MB\n"
     ]
    }
   ],
   "source": [
    "creditos.info()"
   ]
  },
  {
   "cell_type": "code",
   "execution_count": 508,
   "metadata": {},
   "outputs": [
    {
     "data": {
      "text/plain": [
       "array([\"[{'cast_id': 2, 'character': 'Eddie', 'credit_id': '52fe449ac3a368484e02c1ed', 'gender': 2, 'id': 2228, 'name': 'Sean Penn', 'order': 0, 'profile_path': '/f2uy1zq0qmtLBpsr6N9uQ8FktOr.jpg'}, {'cast_id': 3, 'character': 'Mickey', 'credit_id': '52fe449ac3a368484e02c1f1', 'gender': 2, 'id': 1979, 'name': 'Kevin Spacey', 'order': 1, 'profile_path': '/cdowETe1PgXLjo72hDb7R7tyavf.jpg'}, {'cast_id': 4, 'character': 'Darlene', 'credit_id': '52fe449ac3a368484e02c1f5', 'gender': 1, 'id': 32, 'name': 'Robin Wright', 'order': 2, 'profile_path': '/tXfQTgcIEPP7gtVdJ44ZxZPhacn.jpg'}, {'cast_id': 5, 'character': 'Phil', 'credit_id': '52fe449ac3a368484e02c1f9', 'gender': 2, 'id': 9046, 'name': 'Chazz Palminteri', 'order': 3, 'profile_path': '/57fiwGZBohA7qytoXOUJtSNVksT.jpg'}, {'cast_id': 6, 'character': 'Artie', 'credit_id': '52fe449ac3a368484e02c1fd', 'gender': 2, 'id': 52865, 'name': 'Garry Shandling', 'order': 4, 'profile_path': '/rMSod5msflCZBZ9LfJu8n4zYkuP.jpg'}, {'cast_id': 7, 'character': 'Donna', 'credit_id': '52fe449ac3a368484e02c201', 'gender': 1, 'id': 10690, 'name': 'Anna Paquin', 'order': 5, 'profile_path': '/5Q4vZK2PqHkreQLmbPspIgrSLUP.jpg'}, {'cast_id': 8, 'character': 'Bonnie', 'credit_id': '52fe449ac3a368484e02c205', 'gender': 1, 'id': 5344, 'name': 'Meg Ryan', 'order': 6, 'profile_path': '/iv33eEcSakPCkO2MiR4bIZpjgyg.jpg'}]\"],\n",
       "      dtype=object)"
      ]
     },
     "execution_count": 508,
     "metadata": {},
     "output_type": "execute_result"
    }
   ],
   "source": [
    "creditos.cast.sample(1).values"
   ]
  },
  {
   "cell_type": "code",
   "execution_count": 511,
   "metadata": {},
   "outputs": [
    {
     "data": {
      "text/plain": [
       "array([\"[{'credit_id': '52fe449e9251416c91016fdd', 'department': 'Sound', 'gender': 2, 'id': 636, 'job': 'Original Music Composer', 'name': 'Joe Hisaishi', 'profile_path': '/9U16jEYcoCyXGBpHrSQ7pZGdHfd.jpg'}, {'credit_id': '52fe449e9251416c91016fd1', 'department': 'Writing', 'gender': 2, 'id': 25622, 'job': 'Screenplay', 'name': 'Yoshikazu Yasuhiko', 'profile_path': '/7004TpfVfdyrARdWlSFMbA1aX0w.jpg'}, {'credit_id': '52fe449e9251416c91016fcb', 'department': 'Directing', 'gender': 2, 'id': 25622, 'job': 'Director', 'name': 'Yoshikazu Yasuhiko', 'profile_path': '/7004TpfVfdyrARdWlSFMbA1aX0w.jpg'}, {'credit_id': '52fe449e9251416c91016fd7', 'department': 'Writing', 'gender': 0, 'id': 555172, 'job': 'Screenplay', 'name': 'Yuichi Sasamoto', 'profile_path': None}]\"],\n",
       "      dtype=object)"
      ]
     },
     "execution_count": 511,
     "metadata": {},
     "output_type": "execute_result"
    }
   ],
   "source": [
    "#El valor buscado se encuentra en la columna crew\n",
    "creditos.crew.sample(1).values"
   ]
  },
  {
   "cell_type": "markdown",
   "metadata": {},
   "source": [
    "El nombre del director/a se encuentra anidado en un diccionario dentro de datos tipo lista de diccionario que es especifico para el departamento de dirección. Es por ello que se definirá una función que acceda a esta lista, busque el diccionario y extraiga el valor de la key name."
   ]
  },
  {
   "cell_type": "markdown",
   "metadata": {},
   "source": [
    "- **Definición de función**"
   ]
  },
  {
   "cell_type": "markdown",
   "metadata": {},
   "source": [
    "En busca de optimizar el código se usara la función next para que cuando la iteración encuentre el valor deseado esta concluya."
   ]
  },
  {
   "cell_type": "code",
   "execution_count": 569,
   "metadata": {},
   "outputs": [],
   "source": [
    "def obtener_director(crew_list):\n",
    "    \"\"\" Función que recibe de argumento una lista de diccionarios, \n",
    "        busca el diccionario que contenga el departamento un valor buscado\n",
    "        y lo retorna.\"\"\"\n",
    "    director_dict = next((member for member in crew_list if isinstance(member, dict) \n",
    "                          and member.get('department') == 'Directing'), None)\n",
    "    return director_dict.get('name') if director_dict else None"
   ]
  },
  {
   "cell_type": "markdown",
   "metadata": {},
   "source": [
    "- **Aplicación de función**"
   ]
  },
  {
   "cell_type": "code",
   "execution_count": 570,
   "metadata": {},
   "outputs": [],
   "source": [
    "#Definimos el tipo de dato de la columna crew como lista de diccionarios con ast\n",
    "creditos['crew'] = creditos['crew'].apply(ast.literal_eval)"
   ]
  },
  {
   "cell_type": "code",
   "execution_count": 571,
   "metadata": {},
   "outputs": [],
   "source": [
    "#Aplicamos función y creamos la nueva columnas con los nombres de los directores\n",
    "creditos['director_name'] = creditos['crew'].apply(obtener_director)"
   ]
  },
  {
   "cell_type": "code",
   "execution_count": 572,
   "metadata": {},
   "outputs": [
    {
     "data": {
      "text/html": [
       "<div>\n",
       "<style scoped>\n",
       "    .dataframe tbody tr th:only-of-type {\n",
       "        vertical-align: middle;\n",
       "    }\n",
       "\n",
       "    .dataframe tbody tr th {\n",
       "        vertical-align: top;\n",
       "    }\n",
       "\n",
       "    .dataframe thead th {\n",
       "        text-align: right;\n",
       "    }\n",
       "</style>\n",
       "<table border=\"1\" class=\"dataframe\">\n",
       "  <thead>\n",
       "    <tr style=\"text-align: right;\">\n",
       "      <th></th>\n",
       "      <th>cast</th>\n",
       "      <th>crew</th>\n",
       "      <th>id</th>\n",
       "      <th>director_name</th>\n",
       "    </tr>\n",
       "  </thead>\n",
       "  <tbody>\n",
       "    <tr>\n",
       "      <th>14808</th>\n",
       "      <td>[{'cast_id': 1, 'character': 'Louise', 'credit...</td>\n",
       "      <td>[{'credit_id': '52fe4571c3a368484e05b591', 'de...</td>\n",
       "      <td>27989</td>\n",
       "      <td>Cheryl Hines</td>\n",
       "    </tr>\n",
       "    <tr>\n",
       "      <th>24324</th>\n",
       "      <td>[{'cast_id': 1001, 'character': '(voice)', 'cr...</td>\n",
       "      <td>[{'credit_id': '52fe4859c3a36847f81630e7', 'de...</td>\n",
       "      <td>53222</td>\n",
       "      <td>Jérémy Clapin</td>\n",
       "    </tr>\n",
       "    <tr>\n",
       "      <th>37969</th>\n",
       "      <td>[{'cast_id': 6, 'character': 'Iris', 'credit_i...</td>\n",
       "      <td>[{'credit_id': '52fe4b75c3a368484e189e63', 'de...</td>\n",
       "      <td>131334</td>\n",
       "      <td>Fiorella Infascelli</td>\n",
       "    </tr>\n",
       "    <tr>\n",
       "      <th>31490</th>\n",
       "      <td>[{'cast_id': 0, 'character': 'Detective Ellen ...</td>\n",
       "      <td>[]</td>\n",
       "      <td>338234</td>\n",
       "      <td>None</td>\n",
       "    </tr>\n",
       "    <tr>\n",
       "      <th>17833</th>\n",
       "      <td>[{'cast_id': 2, 'character': 'Sam Bisbee', 'cr...</td>\n",
       "      <td>[{'credit_id': '52fe4b7dc3a368484e18b6e1', 'de...</td>\n",
       "      <td>131732</td>\n",
       "      <td>Erle C. Kenton</td>\n",
       "    </tr>\n",
       "    <tr>\n",
       "      <th>16254</th>\n",
       "      <td>[{'cast_id': 5, 'character': 'Himself', 'credi...</td>\n",
       "      <td>[{'credit_id': '52fe46069251416c910468cb', 'de...</td>\n",
       "      <td>36738</td>\n",
       "      <td>Dana Heinz Perry</td>\n",
       "    </tr>\n",
       "    <tr>\n",
       "      <th>4222</th>\n",
       "      <td>[{'cast_id': 12, 'character': 'Narrator (voice...</td>\n",
       "      <td>[{'credit_id': '52fe44d29251416c9101e095', 'de...</td>\n",
       "      <td>32458</td>\n",
       "      <td>Costa Botes</td>\n",
       "    </tr>\n",
       "    <tr>\n",
       "      <th>7496</th>\n",
       "      <td>[{'cast_id': 1, 'character': 'Takuma Tsurugi',...</td>\n",
       "      <td>[{'credit_id': '52fe45a5c3a36847f80d27a5', 'de...</td>\n",
       "      <td>40812</td>\n",
       "      <td>Shigehiro Ozawa</td>\n",
       "    </tr>\n",
       "    <tr>\n",
       "      <th>45384</th>\n",
       "      <td>[{'cast_id': 1, 'character': 'Shyamlal Chatter...</td>\n",
       "      <td>[{'credit_id': '58877d529251415ff70053e7', 'de...</td>\n",
       "      <td>408624</td>\n",
       "      <td>Konkona Sen Sharma</td>\n",
       "    </tr>\n",
       "    <tr>\n",
       "      <th>40224</th>\n",
       "      <td>[{'cast_id': 1, 'character': 'Pablo', 'credit_...</td>\n",
       "      <td>[{'credit_id': '54acaaecc3a36822b700524d', 'de...</td>\n",
       "      <td>316074</td>\n",
       "      <td>Claudia Lorenz</td>\n",
       "    </tr>\n",
       "  </tbody>\n",
       "</table>\n",
       "</div>"
      ],
      "text/plain": [
       "                                                    cast  \\\n",
       "14808  [{'cast_id': 1, 'character': 'Louise', 'credit...   \n",
       "24324  [{'cast_id': 1001, 'character': '(voice)', 'cr...   \n",
       "37969  [{'cast_id': 6, 'character': 'Iris', 'credit_i...   \n",
       "31490  [{'cast_id': 0, 'character': 'Detective Ellen ...   \n",
       "17833  [{'cast_id': 2, 'character': 'Sam Bisbee', 'cr...   \n",
       "16254  [{'cast_id': 5, 'character': 'Himself', 'credi...   \n",
       "4222   [{'cast_id': 12, 'character': 'Narrator (voice...   \n",
       "7496   [{'cast_id': 1, 'character': 'Takuma Tsurugi',...   \n",
       "45384  [{'cast_id': 1, 'character': 'Shyamlal Chatter...   \n",
       "40224  [{'cast_id': 1, 'character': 'Pablo', 'credit_...   \n",
       "\n",
       "                                                    crew      id  \\\n",
       "14808  [{'credit_id': '52fe4571c3a368484e05b591', 'de...   27989   \n",
       "24324  [{'credit_id': '52fe4859c3a36847f81630e7', 'de...   53222   \n",
       "37969  [{'credit_id': '52fe4b75c3a368484e189e63', 'de...  131334   \n",
       "31490                                                 []  338234   \n",
       "17833  [{'credit_id': '52fe4b7dc3a368484e18b6e1', 'de...  131732   \n",
       "16254  [{'credit_id': '52fe46069251416c910468cb', 'de...   36738   \n",
       "4222   [{'credit_id': '52fe44d29251416c9101e095', 'de...   32458   \n",
       "7496   [{'credit_id': '52fe45a5c3a36847f80d27a5', 'de...   40812   \n",
       "45384  [{'credit_id': '58877d529251415ff70053e7', 'de...  408624   \n",
       "40224  [{'credit_id': '54acaaecc3a36822b700524d', 'de...  316074   \n",
       "\n",
       "             director_name  \n",
       "14808         Cheryl Hines  \n",
       "24324        Jérémy Clapin  \n",
       "37969  Fiorella Infascelli  \n",
       "31490                 None  \n",
       "17833       Erle C. Kenton  \n",
       "16254     Dana Heinz Perry  \n",
       "4222           Costa Botes  \n",
       "7496       Shigehiro Ozawa  \n",
       "45384   Konkona Sen Sharma  \n",
       "40224       Claudia Lorenz  "
      ]
     },
     "execution_count": 572,
     "metadata": {},
     "output_type": "execute_result"
    }
   ],
   "source": [
    "#Visualizamos\n",
    "creditos.sample(10)"
   ]
  },
  {
   "cell_type": "markdown",
   "metadata": {},
   "source": [
    "**2.7 Eliminación de columnas anidadas**"
   ]
  },
  {
   "cell_type": "markdown",
   "metadata": {},
   "source": [
    "2.7.1 Dataset Movies"
   ]
  },
  {
   "cell_type": "code",
   "execution_count": 574,
   "metadata": {},
   "outputs": [],
   "source": [
    "#Definimos la lista de columnas para borrar\n",
    "lista_anidadas = ['belongs_to_collection', 'genres', 'production_companies', 'production_countries', 'spoken_languages']  \n",
    "#Borramos\n",
    "movies = movies.drop(columns= lista_anidadas)"
   ]
  },
  {
   "cell_type": "code",
   "execution_count": 575,
   "metadata": {},
   "outputs": [
    {
     "name": "stdout",
     "output_type": "stream",
     "text": [
      "<class 'pandas.core.frame.DataFrame'>\n",
      "Int64Index: 45376 entries, 0 to 45465\n",
      "Data columns (total 20 columns):\n",
      " #   Column               Non-Null Count  Dtype  \n",
      "---  ------               --------------  -----  \n",
      " 0   budget               45376 non-null  float64\n",
      " 1   id                   45376 non-null  object \n",
      " 2   original_language    45365 non-null  object \n",
      " 3   overview             44435 non-null  object \n",
      " 4   popularity           45376 non-null  object \n",
      " 5   release_date         45376 non-null  object \n",
      " 6   revenue              45376 non-null  float64\n",
      " 7   runtime              45130 non-null  float64\n",
      " 8   status               45296 non-null  object \n",
      " 9   tagline              20398 non-null  object \n",
      " 10  title                45376 non-null  object \n",
      " 11  vote_average         45376 non-null  float64\n",
      " 12  vote_count           45376 non-null  float64\n",
      " 13  release_year         45376 non-null  Int64  \n",
      " 14  return               45376 non-null  float64\n",
      " 15  collection           45376 non-null  object \n",
      " 16  genre                45376 non-null  object \n",
      " 17  companies            45376 non-null  object \n",
      " 18  production_countrie  45376 non-null  object \n",
      " 19  spoken_language      45376 non-null  object \n",
      "dtypes: Int64(1), float64(6), object(13)\n",
      "memory usage: 7.3+ MB\n"
     ]
    }
   ],
   "source": [
    "movies.info()"
   ]
  },
  {
   "cell_type": "markdown",
   "metadata": {},
   "source": [
    "2.7.2 Dataset creditos"
   ]
  },
  {
   "cell_type": "code",
   "execution_count": 582,
   "metadata": {},
   "outputs": [],
   "source": [
    "#Definimos la lista de columnas para borrar\n",
    "lista_credits = ['cast', 'crew']  \n",
    "#Borramos\n",
    "creditos = creditos.drop(columns= lista_credits)"
   ]
  },
  {
   "cell_type": "code",
   "execution_count": 623,
   "metadata": {},
   "outputs": [
    {
     "data": {
      "text/html": [
       "<div>\n",
       "<style scoped>\n",
       "    .dataframe tbody tr th:only-of-type {\n",
       "        vertical-align: middle;\n",
       "    }\n",
       "\n",
       "    .dataframe tbody tr th {\n",
       "        vertical-align: top;\n",
       "    }\n",
       "\n",
       "    .dataframe thead th {\n",
       "        text-align: right;\n",
       "    }\n",
       "</style>\n",
       "<table border=\"1\" class=\"dataframe\">\n",
       "  <thead>\n",
       "    <tr style=\"text-align: right;\">\n",
       "      <th></th>\n",
       "      <th>id</th>\n",
       "      <th>director_name</th>\n",
       "    </tr>\n",
       "  </thead>\n",
       "  <tbody>\n",
       "    <tr>\n",
       "      <th>0</th>\n",
       "      <td>862</td>\n",
       "      <td>John Lasseter</td>\n",
       "    </tr>\n",
       "    <tr>\n",
       "      <th>1</th>\n",
       "      <td>8844</td>\n",
       "      <td>Joe Johnston</td>\n",
       "    </tr>\n",
       "    <tr>\n",
       "      <th>2</th>\n",
       "      <td>15602</td>\n",
       "      <td>Howard Deutch</td>\n",
       "    </tr>\n",
       "    <tr>\n",
       "      <th>3</th>\n",
       "      <td>31357</td>\n",
       "      <td>Forest Whitaker</td>\n",
       "    </tr>\n",
       "    <tr>\n",
       "      <th>4</th>\n",
       "      <td>11862</td>\n",
       "      <td>Charles Shyer</td>\n",
       "    </tr>\n",
       "  </tbody>\n",
       "</table>\n",
       "</div>"
      ],
      "text/plain": [
       "      id    director_name\n",
       "0    862    John Lasseter\n",
       "1   8844     Joe Johnston\n",
       "2  15602    Howard Deutch\n",
       "3  31357  Forest Whitaker\n",
       "4  11862    Charles Shyer"
      ]
     },
     "execution_count": 623,
     "metadata": {},
     "output_type": "execute_result"
    }
   ],
   "source": [
    "creditos.head(5)"
   ]
  },
  {
   "cell_type": "code",
   "execution_count": 584,
   "metadata": {},
   "outputs": [
    {
     "name": "stdout",
     "output_type": "stream",
     "text": [
      "<class 'pandas.core.frame.DataFrame'>\n",
      "RangeIndex: 45476 entries, 0 to 45475\n",
      "Data columns (total 2 columns):\n",
      " #   Column         Non-Null Count  Dtype \n",
      "---  ------         --------------  ----- \n",
      " 0   id             45476 non-null  int64 \n",
      " 1   director_name  44590 non-null  object\n",
      "dtypes: int64(1), object(1)\n",
      "memory usage: 710.7+ KB\n"
     ]
    }
   ],
   "source": [
    "creditos.info()"
   ]
  },
  {
   "cell_type": "markdown",
   "metadata": {},
   "source": [
    "--------------------------------"
   ]
  },
  {
   "cell_type": "markdown",
   "metadata": {},
   "source": [
    "# 3. Load de la base de datos"
   ]
  },
  {
   "cell_type": "markdown",
   "metadata": {},
   "source": [
    "**3.1 Unión de la base de datos**"
   ]
  },
  {
   "cell_type": "code",
   "execution_count": 585,
   "metadata": {},
   "outputs": [],
   "source": [
    "#Transformamos del ID de Movies a tipo INT\n",
    "movies['id'] = movies['id'].astype('int64')"
   ]
  },
  {
   "cell_type": "code",
   "execution_count": 586,
   "metadata": {},
   "outputs": [],
   "source": [
    "#Unimos los datos con merge\n",
    "movies_vf = pd.merge(movies, creditos, on = 'id')"
   ]
  },
  {
   "cell_type": "code",
   "execution_count": 589,
   "metadata": {},
   "outputs": [
    {
     "name": "stdout",
     "output_type": "stream",
     "text": [
      "<class 'pandas.core.frame.DataFrame'>\n",
      "Int64Index: 45451 entries, 0 to 45450\n",
      "Data columns (total 21 columns):\n",
      " #   Column               Non-Null Count  Dtype  \n",
      "---  ------               --------------  -----  \n",
      " 0   budget               45451 non-null  float64\n",
      " 1   id                   45451 non-null  int64  \n",
      " 2   original_language    45440 non-null  object \n",
      " 3   overview             44510 non-null  object \n",
      " 4   popularity           45451 non-null  object \n",
      " 5   release_date         45451 non-null  object \n",
      " 6   revenue              45451 non-null  float64\n",
      " 7   runtime              45205 non-null  float64\n",
      " 8   status               45371 non-null  object \n",
      " 9   tagline              20425 non-null  object \n",
      " 10  title                45451 non-null  object \n",
      " 11  vote_average         45451 non-null  float64\n",
      " 12  vote_count           45451 non-null  float64\n",
      " 13  release_year         45451 non-null  Int64  \n",
      " 14  return               45451 non-null  float64\n",
      " 15  collection           45451 non-null  object \n",
      " 16  genre                45451 non-null  object \n",
      " 17  companies            45451 non-null  object \n",
      " 18  production_countrie  45451 non-null  object \n",
      " 19  spoken_language      45451 non-null  object \n",
      " 20  director_name        44617 non-null  object \n",
      "dtypes: Int64(1), float64(6), int64(1), object(13)\n",
      "memory usage: 7.7+ MB\n"
     ]
    }
   ],
   "source": [
    "movies_vf.info()"
   ]
  },
  {
   "cell_type": "markdown",
   "metadata": {},
   "source": [
    "**3.2 Ordenado de la base de datos**"
   ]
  },
  {
   "cell_type": "code",
   "execution_count": 592,
   "metadata": {},
   "outputs": [],
   "source": [
    "#Definimos lista de orden \n",
    "orden = ['id','title','genre','collection','original_language','spoken_language','runtime',\n",
    "         'release_date','release_year','director_name','companies','production_countrie',\n",
    "         'status','overview','popularity','vote_average','vote_count','budget','revenue','return','tagline']"
   ]
  },
  {
   "cell_type": "code",
   "execution_count": 593,
   "metadata": {},
   "outputs": [],
   "source": [
    "#Ordenamos\n",
    "movies_vf=movies_vf[orden]"
   ]
  },
  {
   "cell_type": "code",
   "execution_count": 601,
   "metadata": {},
   "outputs": [
    {
     "data": {
      "text/html": [
       "<div>\n",
       "<style scoped>\n",
       "    .dataframe tbody tr th:only-of-type {\n",
       "        vertical-align: middle;\n",
       "    }\n",
       "\n",
       "    .dataframe tbody tr th {\n",
       "        vertical-align: top;\n",
       "    }\n",
       "\n",
       "    .dataframe thead th {\n",
       "        text-align: right;\n",
       "    }\n",
       "</style>\n",
       "<table border=\"1\" class=\"dataframe\">\n",
       "  <thead>\n",
       "    <tr style=\"text-align: right;\">\n",
       "      <th></th>\n",
       "      <th>id</th>\n",
       "      <th>title</th>\n",
       "      <th>genre</th>\n",
       "      <th>collection</th>\n",
       "      <th>original_language</th>\n",
       "      <th>spoken_language</th>\n",
       "      <th>runtime</th>\n",
       "      <th>release_date</th>\n",
       "      <th>release_year</th>\n",
       "      <th>director_name</th>\n",
       "      <th>...</th>\n",
       "      <th>production_countrie</th>\n",
       "      <th>status</th>\n",
       "      <th>overview</th>\n",
       "      <th>popularity</th>\n",
       "      <th>vote_average</th>\n",
       "      <th>vote_count</th>\n",
       "      <th>budget</th>\n",
       "      <th>revenue</th>\n",
       "      <th>return</th>\n",
       "      <th>tagline</th>\n",
       "    </tr>\n",
       "  </thead>\n",
       "  <tbody>\n",
       "    <tr>\n",
       "      <th>25602</th>\n",
       "      <td>120605</td>\n",
       "      <td>The Punisher: Dirty Laundry</td>\n",
       "      <td>Action, Crime, Thriller</td>\n",
       "      <td>None</td>\n",
       "      <td>en</td>\n",
       "      <td>English</td>\n",
       "      <td>10.0</td>\n",
       "      <td>2012-07-16</td>\n",
       "      <td>2012</td>\n",
       "      <td>Phil Joanou</td>\n",
       "      <td>...</td>\n",
       "      <td>United States of America</td>\n",
       "      <td>Released</td>\n",
       "      <td>Frank Castle is staying in a bad neighborhood,...</td>\n",
       "      <td>11.309444</td>\n",
       "      <td>7.3</td>\n",
       "      <td>144.0</td>\n",
       "      <td>0.0</td>\n",
       "      <td>0.0</td>\n",
       "      <td>0.0</td>\n",
       "      <td>What's the difference between justice and puni...</td>\n",
       "    </tr>\n",
       "  </tbody>\n",
       "</table>\n",
       "<p>1 rows × 21 columns</p>\n",
       "</div>"
      ],
      "text/plain": [
       "           id                        title                    genre  \\\n",
       "25602  120605  The Punisher: Dirty Laundry  Action, Crime, Thriller   \n",
       "\n",
       "      collection original_language spoken_language  runtime release_date  \\\n",
       "25602       None                en         English     10.0   2012-07-16   \n",
       "\n",
       "       release_year director_name  ...       production_countrie    status  \\\n",
       "25602          2012   Phil Joanou  ...  United States of America  Released   \n",
       "\n",
       "                                                overview popularity  \\\n",
       "25602  Frank Castle is staying in a bad neighborhood,...  11.309444   \n",
       "\n",
       "      vote_average  vote_count  budget  revenue  return  \\\n",
       "25602          7.3       144.0     0.0      0.0     0.0   \n",
       "\n",
       "                                                 tagline  \n",
       "25602  What's the difference between justice and puni...  \n",
       "\n",
       "[1 rows x 21 columns]"
      ]
     },
     "execution_count": 601,
     "metadata": {},
     "output_type": "execute_result"
    }
   ],
   "source": [
    "movies_vf.sample()"
   ]
  },
  {
   "cell_type": "markdown",
   "metadata": {},
   "source": [
    "**3.3 Exportamos el dataset**"
   ]
  },
  {
   "cell_type": "code",
   "execution_count": 603,
   "metadata": {},
   "outputs": [],
   "source": [
    "movies_vf.to_csv('movies_final.csv', index=False)"
   ]
  },
  {
   "cell_type": "code",
   "execution_count": 604,
   "metadata": {},
   "outputs": [],
   "source": [
    "df = pd.read_csv('movies_final.csv')"
   ]
  },
  {
   "cell_type": "code",
   "execution_count": 606,
   "metadata": {},
   "outputs": [
    {
     "data": {
      "text/html": [
       "<div>\n",
       "<style scoped>\n",
       "    .dataframe tbody tr th:only-of-type {\n",
       "        vertical-align: middle;\n",
       "    }\n",
       "\n",
       "    .dataframe tbody tr th {\n",
       "        vertical-align: top;\n",
       "    }\n",
       "\n",
       "    .dataframe thead th {\n",
       "        text-align: right;\n",
       "    }\n",
       "</style>\n",
       "<table border=\"1\" class=\"dataframe\">\n",
       "  <thead>\n",
       "    <tr style=\"text-align: right;\">\n",
       "      <th></th>\n",
       "      <th>id</th>\n",
       "      <th>title</th>\n",
       "      <th>genre</th>\n",
       "      <th>collection</th>\n",
       "      <th>original_language</th>\n",
       "      <th>spoken_language</th>\n",
       "      <th>runtime</th>\n",
       "      <th>release_date</th>\n",
       "      <th>release_year</th>\n",
       "      <th>director_name</th>\n",
       "      <th>...</th>\n",
       "      <th>production_countrie</th>\n",
       "      <th>status</th>\n",
       "      <th>overview</th>\n",
       "      <th>popularity</th>\n",
       "      <th>vote_average</th>\n",
       "      <th>vote_count</th>\n",
       "      <th>budget</th>\n",
       "      <th>revenue</th>\n",
       "      <th>return</th>\n",
       "      <th>tagline</th>\n",
       "    </tr>\n",
       "  </thead>\n",
       "  <tbody>\n",
       "    <tr>\n",
       "      <th>38891</th>\n",
       "      <td>147307</td>\n",
       "      <td>Multiple SIDosis</td>\n",
       "      <td>None</td>\n",
       "      <td>None</td>\n",
       "      <td>en</td>\n",
       "      <td>None</td>\n",
       "      <td>10.0</td>\n",
       "      <td>1970-12-31</td>\n",
       "      <td>1970</td>\n",
       "      <td>Sid Laverents</td>\n",
       "      <td>...</td>\n",
       "      <td>None</td>\n",
       "      <td>Released</td>\n",
       "      <td>Short film utilizing quick cuts and multiple a...</td>\n",
       "      <td>0.049417</td>\n",
       "      <td>5.0</td>\n",
       "      <td>1.0</td>\n",
       "      <td>0.0</td>\n",
       "      <td>0.0</td>\n",
       "      <td>0.000000</td>\n",
       "      <td>Short film of a one-man-band musical performan...</td>\n",
       "    </tr>\n",
       "    <tr>\n",
       "      <th>43450</th>\n",
       "      <td>30592</td>\n",
       "      <td>The Jacksons: An American Dream</td>\n",
       "      <td>Drama, Music</td>\n",
       "      <td>None</td>\n",
       "      <td>en</td>\n",
       "      <td>English</td>\n",
       "      <td>240.0</td>\n",
       "      <td>1992-11-15</td>\n",
       "      <td>1992</td>\n",
       "      <td>Karen Arthur</td>\n",
       "      <td>...</td>\n",
       "      <td>United States of America</td>\n",
       "      <td>Released</td>\n",
       "      <td>The Jacksons are your average working-class fa...</td>\n",
       "      <td>1.717329</td>\n",
       "      <td>4.9</td>\n",
       "      <td>20.0</td>\n",
       "      <td>0.0</td>\n",
       "      <td>0.0</td>\n",
       "      <td>0.000000</td>\n",
       "      <td>NaN</td>\n",
       "    </tr>\n",
       "    <tr>\n",
       "      <th>16273</th>\n",
       "      <td>10140</td>\n",
       "      <td>The Chronicles of Narnia: The Voyage of the Da...</td>\n",
       "      <td>Adventure, Family, Fantasy</td>\n",
       "      <td>The Chronicles of Narnia Collection</td>\n",
       "      <td>en</td>\n",
       "      <td>English</td>\n",
       "      <td>113.0</td>\n",
       "      <td>2010-08-13</td>\n",
       "      <td>2010</td>\n",
       "      <td>Michael Apted</td>\n",
       "      <td>...</td>\n",
       "      <td>United States of America</td>\n",
       "      <td>Released</td>\n",
       "      <td>This time around Edmund and Lucy Pevensie, alo...</td>\n",
       "      <td>12.383398</td>\n",
       "      <td>6.2</td>\n",
       "      <td>1555.0</td>\n",
       "      <td>155000000.0</td>\n",
       "      <td>415686217.0</td>\n",
       "      <td>2.681847</td>\n",
       "      <td>Return to magic. Return to hope. Return to Nar...</td>\n",
       "    </tr>\n",
       "    <tr>\n",
       "      <th>32849</th>\n",
       "      <td>108586</td>\n",
       "      <td>A Bunny's Tale</td>\n",
       "      <td>None</td>\n",
       "      <td>None</td>\n",
       "      <td>en</td>\n",
       "      <td>None</td>\n",
       "      <td>104.0</td>\n",
       "      <td>1985-02-25</td>\n",
       "      <td>1985</td>\n",
       "      <td>NaN</td>\n",
       "      <td>...</td>\n",
       "      <td>None</td>\n",
       "      <td>Released</td>\n",
       "      <td>A dramatization of Gloria Steinem's undercover...</td>\n",
       "      <td>0.049482</td>\n",
       "      <td>5.0</td>\n",
       "      <td>1.0</td>\n",
       "      <td>0.0</td>\n",
       "      <td>0.0</td>\n",
       "      <td>0.000000</td>\n",
       "      <td>NaN</td>\n",
       "    </tr>\n",
       "    <tr>\n",
       "      <th>9240</th>\n",
       "      <td>844</td>\n",
       "      <td>2046</td>\n",
       "      <td>Fantasy, Drama, Science Fiction, Romance</td>\n",
       "      <td>Wong Kar-Wai's Informal Collection</td>\n",
       "      <td>zh</td>\n",
       "      <td>广州话 / 廣州話, 日本語, 普通话</td>\n",
       "      <td>129.0</td>\n",
       "      <td>2004-05-20</td>\n",
       "      <td>2004</td>\n",
       "      <td>Wong Kar-wai</td>\n",
       "      <td>...</td>\n",
       "      <td>Germany, Hong Kong, China, France, Italy</td>\n",
       "      <td>Released</td>\n",
       "      <td>2046 is the sequel to Wong Kar-Wais’ successfu...</td>\n",
       "      <td>7.157169</td>\n",
       "      <td>6.9</td>\n",
       "      <td>208.0</td>\n",
       "      <td>12000000.0</td>\n",
       "      <td>19271312.0</td>\n",
       "      <td>1.605943</td>\n",
       "      <td>Are you still in the mood for love?</td>\n",
       "    </tr>\n",
       "  </tbody>\n",
       "</table>\n",
       "<p>5 rows × 21 columns</p>\n",
       "</div>"
      ],
      "text/plain": [
       "           id                                              title  \\\n",
       "38891  147307                                   Multiple SIDosis   \n",
       "43450   30592                    The Jacksons: An American Dream   \n",
       "16273   10140  The Chronicles of Narnia: The Voyage of the Da...   \n",
       "32849  108586                                     A Bunny's Tale   \n",
       "9240      844                                               2046   \n",
       "\n",
       "                                          genre  \\\n",
       "38891                                      None   \n",
       "43450                              Drama, Music   \n",
       "16273                Adventure, Family, Fantasy   \n",
       "32849                                      None   \n",
       "9240   Fantasy, Drama, Science Fiction, Romance   \n",
       "\n",
       "                                collection original_language  \\\n",
       "38891                                 None                en   \n",
       "43450                                 None                en   \n",
       "16273  The Chronicles of Narnia Collection                en   \n",
       "32849                                 None                en   \n",
       "9240    Wong Kar-Wai's Informal Collection                zh   \n",
       "\n",
       "           spoken_language  runtime release_date  release_year  director_name  \\\n",
       "38891                 None     10.0   1970-12-31          1970  Sid Laverents   \n",
       "43450              English    240.0   1992-11-15          1992   Karen Arthur   \n",
       "16273              English    113.0   2010-08-13          2010  Michael Apted   \n",
       "32849                 None    104.0   1985-02-25          1985            NaN   \n",
       "9240   广州话 / 廣州話, 日本語, 普通话    129.0   2004-05-20          2004   Wong Kar-wai   \n",
       "\n",
       "       ...                       production_countrie    status  \\\n",
       "38891  ...                                      None  Released   \n",
       "43450  ...                  United States of America  Released   \n",
       "16273  ...                  United States of America  Released   \n",
       "32849  ...                                      None  Released   \n",
       "9240   ...  Germany, Hong Kong, China, France, Italy  Released   \n",
       "\n",
       "                                                overview popularity  \\\n",
       "38891  Short film utilizing quick cuts and multiple a...   0.049417   \n",
       "43450  The Jacksons are your average working-class fa...   1.717329   \n",
       "16273  This time around Edmund and Lucy Pevensie, alo...  12.383398   \n",
       "32849  A dramatization of Gloria Steinem's undercover...   0.049482   \n",
       "9240   2046 is the sequel to Wong Kar-Wais’ successfu...   7.157169   \n",
       "\n",
       "       vote_average  vote_count       budget      revenue    return  \\\n",
       "38891           5.0         1.0          0.0          0.0  0.000000   \n",
       "43450           4.9        20.0          0.0          0.0  0.000000   \n",
       "16273           6.2      1555.0  155000000.0  415686217.0  2.681847   \n",
       "32849           5.0         1.0          0.0          0.0  0.000000   \n",
       "9240            6.9       208.0   12000000.0   19271312.0  1.605943   \n",
       "\n",
       "                                                 tagline  \n",
       "38891  Short film of a one-man-band musical performan...  \n",
       "43450                                                NaN  \n",
       "16273  Return to magic. Return to hope. Return to Nar...  \n",
       "32849                                                NaN  \n",
       "9240                 Are you still in the mood for love?  \n",
       "\n",
       "[5 rows x 21 columns]"
      ]
     },
     "execution_count": 606,
     "metadata": {},
     "output_type": "execute_result"
    }
   ],
   "source": [
    "df.sample(5)"
   ]
  },
  {
   "cell_type": "markdown",
   "metadata": {},
   "source": [
    "------------------------------------"
   ]
  }
 ],
 "metadata": {
  "kernelspec": {
   "display_name": "Python 3",
   "language": "python",
   "name": "python3"
  },
  "language_info": {
   "codemirror_mode": {
    "name": "ipython",
    "version": 3
   },
   "file_extension": ".py",
   "mimetype": "text/x-python",
   "name": "python",
   "nbconvert_exporter": "python",
   "pygments_lexer": "ipython3",
   "version": "3.10.7"
  },
  "orig_nbformat": 4
 },
 "nbformat": 4,
 "nbformat_minor": 2
}
