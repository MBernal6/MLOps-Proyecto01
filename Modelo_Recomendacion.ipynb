{
 "cells": [
  {
   "cell_type": "markdown",
   "metadata": {},
   "source": [
    "# **MLOps- MODELO DE RECOMENDACIÓN DE PELICULAS**"
   ]
  },
  {
   "cell_type": "markdown",
   "metadata": {},
   "source": [
    "El modelo consiste en recomendar películas a los usuarios basándose en películas similares, por lo que se debe encontrar la similitud de puntuación entre esa película y el resto de películas, se ordenarán según el score de similaridad y devolverá una lista de Python con 5 valores, cada uno siendo el string del nombre de las películas con mayor puntaje, en orden descendente. Debe ser deployado como una función adicional de la API anterior y debe llamarse:\n",
    "\n",
    "- def recomendacion( titulo ): Se ingresa el nombre de una película y te recomienda las similares en una lista de 5 valores."
   ]
  },
  {
   "cell_type": "code",
   "execution_count": 168,
   "metadata": {},
   "outputs": [],
   "source": [
    "#Librerias necesarias\n",
    "import pandas as pd\n",
    "import numpy as np \n",
    "# importamos el modulo de sklearn\n",
    "from sklearn.feature_extraction.text import TfidfVectorizer\n",
    "from sklearn.metrics.pairwise import linear_kernel\n",
    "from sklearn.metrics.pairwise import cosine_similarity"
   ]
  },
  {
   "cell_type": "markdown",
   "metadata": {},
   "source": [
    "# **1. Preparación de los datos**"
   ]
  },
  {
   "cell_type": "code",
   "execution_count": 169,
   "metadata": {},
   "outputs": [
    {
     "name": "stdout",
     "output_type": "stream",
     "text": [
      "<class 'pandas.core.frame.DataFrame'>\n",
      "RangeIndex: 45451 entries, 0 to 45450\n",
      "Data columns (total 21 columns):\n",
      " #   Column               Non-Null Count  Dtype  \n",
      "---  ------               --------------  -----  \n",
      " 0   id                   45451 non-null  int64  \n",
      " 1   title                45451 non-null  object \n",
      " 2   genre                45451 non-null  object \n",
      " 3   collection           45451 non-null  object \n",
      " 4   original_language    45440 non-null  object \n",
      " 5   spoken_language      45451 non-null  object \n",
      " 6   runtime              45205 non-null  float64\n",
      " 7   release_date         45451 non-null  object \n",
      " 8   release_year         45451 non-null  int64  \n",
      " 9   director_name        44617 non-null  object \n",
      " 10  companies            45451 non-null  object \n",
      " 11  production_countrie  45451 non-null  object \n",
      " 12  status               45371 non-null  object \n",
      " 13  overview             44510 non-null  object \n",
      " 14  popularity           45451 non-null  float64\n",
      " 15  vote_average         45451 non-null  float64\n",
      " 16  vote_count           45451 non-null  float64\n",
      " 17  budget               45451 non-null  float64\n",
      " 18  revenue              45451 non-null  float64\n",
      " 19  return               45451 non-null  float64\n",
      " 20  tagline              20425 non-null  object \n",
      "dtypes: float64(7), int64(2), object(12)\n",
      "memory usage: 7.3+ MB\n"
     ]
    }
   ],
   "source": [
    "#Creamos el df con los datos de las peliculas\n",
    "movies = pd.read_csv('movies_final.csv')\n",
    "#Mostramos la info del df\n",
    "movies.info() "
   ]
  },
  {
   "cell_type": "markdown",
   "metadata": {},
   "source": [
    "- Para el modelo de recomendación se usarán aquellas columnas que en el EDA mostraron ciertas caracteristicas relevantes. Es por ello que se seleccionaran de acuerdo a un criterio de evaluación personal"
   ]
  },
  {
   "cell_type": "markdown",
   "metadata": {},
   "source": [
    "**1.1 Selección de columnas**"
   ]
  },
  {
   "cell_type": "code",
   "execution_count": 170,
   "metadata": {},
   "outputs": [
    {
     "name": "stdout",
     "output_type": "stream",
     "text": [
      "<class 'pandas.core.frame.DataFrame'>\n",
      "RangeIndex: 45451 entries, 0 to 45450\n",
      "Data columns (total 7 columns):\n",
      " #   Column         Non-Null Count  Dtype  \n",
      "---  ------         --------------  -----  \n",
      " 0   title          45451 non-null  object \n",
      " 1   genre          45451 non-null  object \n",
      " 2   director_name  44617 non-null  object \n",
      " 3   overview       44510 non-null  object \n",
      " 4   companies      45451 non-null  object \n",
      " 5   vote_average   45451 non-null  float64\n",
      " 6   release_year   45451 non-null  int64  \n",
      "dtypes: float64(1), int64(1), object(5)\n",
      "memory usage: 2.4+ MB\n"
     ]
    }
   ],
   "source": [
    "#Determinamos las columnas iniciales\n",
    "columnas = ['title', 'genre', 'director_name', 'overview', 'companies', 'vote_average', 'release_year']\n",
    "\n",
    "#Creamos el df\n",
    "df = movies[columnas]\n",
    "df.info()"
   ]
  },
  {
   "cell_type": "markdown",
   "metadata": {},
   "source": [
    "**1.2 Tratamiento de los datos**"
   ]
  },
  {
   "cell_type": "markdown",
   "metadata": {},
   "source": [
    "- Para mejorar el performance del modelo y teniendo en cuenta la disponibilidad de consumo de las peliculas, se tomaran unicamente los peliculas producidas de 1970 en adelante. "
   ]
  },
  {
   "cell_type": "code",
   "execution_count": 171,
   "metadata": {},
   "outputs": [],
   "source": [
    "#Creamos mascara\n",
    "mask = df['release_year'] >= 1970\n",
    "\n",
    "#Definimos el nuevo df utilizando la mascara\n",
    "df = df[mask]"
   ]
  },
  {
   "cell_type": "markdown",
   "metadata": {},
   "source": [
    "- Tratamos las peliculas donde haya datos nulos en las columnas requeridas "
   ]
  },
  {
   "cell_type": "code",
   "execution_count": 172,
   "metadata": {},
   "outputs": [],
   "source": [
    "#Rellenamos los valores NaN de las columnas overview y director \n",
    "df['overview'] = df['overview'].fillna(\"\")\n",
    "df['director_name'] = df['director_name'].fillna(\"\")"
   ]
  },
  {
   "cell_type": "code",
   "execution_count": 173,
   "metadata": {},
   "outputs": [
    {
     "name": "stdout",
     "output_type": "stream",
     "text": [
      "<class 'pandas.core.frame.DataFrame'>\n",
      "Int64Index: 37150 entries, 0 to 45450\n",
      "Data columns (total 7 columns):\n",
      " #   Column         Non-Null Count  Dtype  \n",
      "---  ------         --------------  -----  \n",
      " 0   title          37150 non-null  object \n",
      " 1   genre          37150 non-null  object \n",
      " 2   director_name  37150 non-null  object \n",
      " 3   overview       37150 non-null  object \n",
      " 4   companies      37150 non-null  object \n",
      " 5   vote_average   37150 non-null  float64\n",
      " 6   release_year   37150 non-null  int64  \n",
      "dtypes: float64(1), int64(1), object(5)\n",
      "memory usage: 2.3+ MB\n"
     ]
    }
   ],
   "source": [
    "df.info()"
   ]
  },
  {
   "cell_type": "markdown",
   "metadata": {},
   "source": [
    "- Eliminamos la columna release_year y normalizamos la columna vote_average\n"
   ]
  },
  {
   "cell_type": "code",
   "execution_count": 174,
   "metadata": {},
   "outputs": [],
   "source": [
    "#Eliminamos la columna release_year\n",
    "df.drop(columns='release_year', inplace= True)\n",
    "\n",
    "# Normalización de 'vote_average' para que esté en el rango [0, 1]\n",
    "df['vote_average_normalized'] = (df['vote_average'] - df['vote_average'].min()) / (df['vote_average'].max()\n",
    "                                                                                    - df['vote_average'].min())\n",
    "#Borramos la columna 'vote_average'\n",
    "df.drop(columns='vote_average', inplace= True)"
   ]
  },
  {
   "cell_type": "code",
   "execution_count": 175,
   "metadata": {},
   "outputs": [
    {
     "data": {
      "text/html": [
       "<div>\n",
       "<style scoped>\n",
       "    .dataframe tbody tr th:only-of-type {\n",
       "        vertical-align: middle;\n",
       "    }\n",
       "\n",
       "    .dataframe tbody tr th {\n",
       "        vertical-align: top;\n",
       "    }\n",
       "\n",
       "    .dataframe thead th {\n",
       "        text-align: right;\n",
       "    }\n",
       "</style>\n",
       "<table border=\"1\" class=\"dataframe\">\n",
       "  <thead>\n",
       "    <tr style=\"text-align: right;\">\n",
       "      <th></th>\n",
       "      <th>title</th>\n",
       "      <th>genre</th>\n",
       "      <th>director_name</th>\n",
       "      <th>overview</th>\n",
       "      <th>companies</th>\n",
       "      <th>vote_average_normalized</th>\n",
       "    </tr>\n",
       "  </thead>\n",
       "  <tbody>\n",
       "    <tr>\n",
       "      <th>2465</th>\n",
       "      <td>10 Things I Hate About You</td>\n",
       "      <td>Comedy, Romance, Drama</td>\n",
       "      <td>Gil Junger</td>\n",
       "      <td>Bianca, a tenth grader, has never gone on a da...</td>\n",
       "      <td>Mad Chance, Jaret Entertainment, Touchstone Pi...</td>\n",
       "      <td>0.73</td>\n",
       "    </tr>\n",
       "    <tr>\n",
       "      <th>13641</th>\n",
       "      <td>The End Of America</td>\n",
       "      <td>Documentary</td>\n",
       "      <td></td>\n",
       "      <td>Based on her book of the same name, Naomi Wolf...</td>\n",
       "      <td>None</td>\n",
       "      <td>0.73</td>\n",
       "    </tr>\n",
       "  </tbody>\n",
       "</table>\n",
       "</div>"
      ],
      "text/plain": [
       "                            title                   genre director_name  \\\n",
       "2465   10 Things I Hate About You  Comedy, Romance, Drama    Gil Junger   \n",
       "13641          The End Of America             Documentary                 \n",
       "\n",
       "                                                overview  \\\n",
       "2465   Bianca, a tenth grader, has never gone on a da...   \n",
       "13641  Based on her book of the same name, Naomi Wolf...   \n",
       "\n",
       "                                               companies  \\\n",
       "2465   Mad Chance, Jaret Entertainment, Touchstone Pi...   \n",
       "13641                                               None   \n",
       "\n",
       "       vote_average_normalized  \n",
       "2465                      0.73  \n",
       "13641                     0.73  "
      ]
     },
     "execution_count": 175,
     "metadata": {},
     "output_type": "execute_result"
    }
   ],
   "source": [
    "#Verificamos\n",
    "df.sample(2)"
   ]
  },
  {
   "cell_type": "markdown",
   "metadata": {},
   "source": [
    "- Quitamos la coma a la columna 'genre' y de 'companie'"
   ]
  },
  {
   "cell_type": "code",
   "execution_count": 176,
   "metadata": {},
   "outputs": [],
   "source": [
    "# Modificamos la columna con géneros combinados\n",
    "df['genre'] = df['genre'].str.replace(', ', ' ')"
   ]
  },
  {
   "cell_type": "code",
   "execution_count": 177,
   "metadata": {},
   "outputs": [],
   "source": [
    "#Modificamos la columna 'companie'\n",
    "df['companies'] = df['companies'].str.replace(', ', ' ')"
   ]
  },
  {
   "cell_type": "code",
   "execution_count": 178,
   "metadata": {},
   "outputs": [
    {
     "data": {
      "text/html": [
       "<div>\n",
       "<style scoped>\n",
       "    .dataframe tbody tr th:only-of-type {\n",
       "        vertical-align: middle;\n",
       "    }\n",
       "\n",
       "    .dataframe tbody tr th {\n",
       "        vertical-align: top;\n",
       "    }\n",
       "\n",
       "    .dataframe thead th {\n",
       "        text-align: right;\n",
       "    }\n",
       "</style>\n",
       "<table border=\"1\" class=\"dataframe\">\n",
       "  <thead>\n",
       "    <tr style=\"text-align: right;\">\n",
       "      <th></th>\n",
       "      <th>title</th>\n",
       "      <th>genre</th>\n",
       "      <th>director_name</th>\n",
       "      <th>overview</th>\n",
       "      <th>companies</th>\n",
       "      <th>vote_average_normalized</th>\n",
       "    </tr>\n",
       "  </thead>\n",
       "  <tbody>\n",
       "    <tr>\n",
       "      <th>18782</th>\n",
       "      <td>Jeff, Who Lives at Home</td>\n",
       "      <td>Drama Comedy</td>\n",
       "      <td>Jay Duplass</td>\n",
       "      <td>Dispatched from his basement room on an errand...</td>\n",
       "      <td>Indian Paintbrush</td>\n",
       "      <td>0.61</td>\n",
       "    </tr>\n",
       "    <tr>\n",
       "      <th>15184</th>\n",
       "      <td>The Losers</td>\n",
       "      <td>Action Adventure Crime Mystery Thriller</td>\n",
       "      <td>Sylvain White</td>\n",
       "      <td>A tale of double cross and revenge, centered u...</td>\n",
       "      <td>DC Comics Weed Road Pictures Dark Castle Enter...</td>\n",
       "      <td>0.62</td>\n",
       "    </tr>\n",
       "  </tbody>\n",
       "</table>\n",
       "</div>"
      ],
      "text/plain": [
       "                         title                                    genre  \\\n",
       "18782  Jeff, Who Lives at Home                             Drama Comedy   \n",
       "15184               The Losers  Action Adventure Crime Mystery Thriller   \n",
       "\n",
       "       director_name                                           overview  \\\n",
       "18782    Jay Duplass  Dispatched from his basement room on an errand...   \n",
       "15184  Sylvain White  A tale of double cross and revenge, centered u...   \n",
       "\n",
       "                                               companies  \\\n",
       "18782                                  Indian Paintbrush   \n",
       "15184  DC Comics Weed Road Pictures Dark Castle Enter...   \n",
       "\n",
       "       vote_average_normalized  \n",
       "18782                     0.61  \n",
       "15184                     0.62  "
      ]
     },
     "execution_count": 178,
     "metadata": {},
     "output_type": "execute_result"
    }
   ],
   "source": [
    "df.sample(2)"
   ]
  },
  {
   "cell_type": "markdown",
   "metadata": {},
   "source": [
    "- Reducimos el dataset en función a las votos promedios para obtener \"las mejores peliculas\"."
   ]
  },
  {
   "cell_type": "code",
   "execution_count": 179,
   "metadata": {},
   "outputs": [
    {
     "name": "stdout",
     "output_type": "stream",
     "text": [
      "<class 'pandas.core.frame.DataFrame'>\n",
      "Int64Index: 19445 entries, 0 to 45447\n",
      "Data columns (total 6 columns):\n",
      " #   Column                   Non-Null Count  Dtype  \n",
      "---  ------                   --------------  -----  \n",
      " 0   title                    19445 non-null  object \n",
      " 1   genre                    19445 non-null  object \n",
      " 2   director_name            19445 non-null  object \n",
      " 3   overview                 19445 non-null  object \n",
      " 4   companies                19445 non-null  object \n",
      " 5   vote_average_normalized  19445 non-null  float64\n",
      "dtypes: float64(1), object(5)\n",
      "memory usage: 1.0+ MB\n"
     ]
    }
   ],
   "source": [
    "vote_mask = df['vote_average_normalized'] >= 0.60\n",
    "df = df[vote_mask]\n",
    "df.info()"
   ]
  },
  {
   "cell_type": "markdown",
   "metadata": {},
   "source": [
    "- Creación de columna para perfiles, estandarización de formato y eliminación de columnas finales "
   ]
  },
  {
   "cell_type": "code",
   "execution_count": 180,
   "metadata": {},
   "outputs": [],
   "source": [
    "# Creación de perfiles de películas\n",
    "df['features'] = df['genre'] + ' ' + df['companies'] #+ ' ' + df['overview']\n",
    "\n",
    "# Rellenamos con '' los valores NaN de ser existir.  \n",
    "df['features'] = df['features'].fillna('')\n",
    "\n",
    "# Convertimos en minusculas los valores de la columna features\n",
    "df['features'] = df['features'].str.lower()"
   ]
  },
  {
   "cell_type": "code",
   "execution_count": 181,
   "metadata": {},
   "outputs": [],
   "source": [
    "#Borramos duplicados en función al titulo de las peliculas \n",
    "df = df.drop_duplicates(subset='title')"
   ]
  },
  {
   "cell_type": "code",
   "execution_count": 182,
   "metadata": {},
   "outputs": [
    {
     "data": {
      "text/html": [
       "<div>\n",
       "<style scoped>\n",
       "    .dataframe tbody tr th:only-of-type {\n",
       "        vertical-align: middle;\n",
       "    }\n",
       "\n",
       "    .dataframe tbody tr th {\n",
       "        vertical-align: top;\n",
       "    }\n",
       "\n",
       "    .dataframe thead th {\n",
       "        text-align: right;\n",
       "    }\n",
       "</style>\n",
       "<table border=\"1\" class=\"dataframe\">\n",
       "  <thead>\n",
       "    <tr style=\"text-align: right;\">\n",
       "      <th></th>\n",
       "      <th>title</th>\n",
       "      <th>genre</th>\n",
       "      <th>director_name</th>\n",
       "      <th>overview</th>\n",
       "      <th>companies</th>\n",
       "      <th>vote_average_normalized</th>\n",
       "      <th>features</th>\n",
       "    </tr>\n",
       "  </thead>\n",
       "  <tbody>\n",
       "    <tr>\n",
       "      <th>24664</th>\n",
       "      <td>The Ballad of Johnny Guitar</td>\n",
       "      <td>Drama</td>\n",
       "      <td>João César Monteiro</td>\n",
       "      <td>Lord knows where John of God has been. He's co...</td>\n",
       "      <td>Madragoa Filmes Grupo de Estudos e Realizações...</td>\n",
       "      <td>0.63</td>\n",
       "      <td>drama madragoa filmes grupo de estudos e reali...</td>\n",
       "    </tr>\n",
       "    <tr>\n",
       "      <th>40628</th>\n",
       "      <td>In the Shadow of Death</td>\n",
       "      <td>Drama Adventure</td>\n",
       "      <td>Gunārs Piesis</td>\n",
       "      <td>A group of men go under-ice fishing, but find ...</td>\n",
       "      <td>Rigas Kinostudija</td>\n",
       "      <td>0.65</td>\n",
       "      <td>drama adventure rigas kinostudija</td>\n",
       "    </tr>\n",
       "    <tr>\n",
       "      <th>16117</th>\n",
       "      <td>127 Hours</td>\n",
       "      <td>Adventure Drama Thriller</td>\n",
       "      <td>Danny Boyle</td>\n",
       "      <td>The true story of mountain climber Aron Ralsto...</td>\n",
       "      <td>Fox Searchlight Pictures Warner Bros. Cloud Ei...</td>\n",
       "      <td>0.70</td>\n",
       "      <td>adventure drama thriller fox searchlight pictu...</td>\n",
       "    </tr>\n",
       "  </tbody>\n",
       "</table>\n",
       "</div>"
      ],
      "text/plain": [
       "                             title                     genre  \\\n",
       "24664  The Ballad of Johnny Guitar                     Drama   \n",
       "40628       In the Shadow of Death           Drama Adventure   \n",
       "16117                    127 Hours  Adventure Drama Thriller   \n",
       "\n",
       "             director_name                                           overview  \\\n",
       "24664  João César Monteiro  Lord knows where John of God has been. He's co...   \n",
       "40628        Gunārs Piesis  A group of men go under-ice fishing, but find ...   \n",
       "16117          Danny Boyle  The true story of mountain climber Aron Ralsto...   \n",
       "\n",
       "                                               companies  \\\n",
       "24664  Madragoa Filmes Grupo de Estudos e Realizações...   \n",
       "40628                                  Rigas Kinostudija   \n",
       "16117  Fox Searchlight Pictures Warner Bros. Cloud Ei...   \n",
       "\n",
       "       vote_average_normalized  \\\n",
       "24664                     0.63   \n",
       "40628                     0.65   \n",
       "16117                     0.70   \n",
       "\n",
       "                                                features  \n",
       "24664  drama madragoa filmes grupo de estudos e reali...  \n",
       "40628                  drama adventure rigas kinostudija  \n",
       "16117  adventure drama thriller fox searchlight pictu...  "
      ]
     },
     "execution_count": 182,
     "metadata": {},
     "output_type": "execute_result"
    }
   ],
   "source": [
    "df.sample(3)"
   ]
  },
  {
   "cell_type": "code",
   "execution_count": 183,
   "metadata": {},
   "outputs": [],
   "source": [
    "#Eliminamos las columnas innecesarias \n",
    "df.drop(columns=['genre','companies','overview','director_name'], inplace= True)"
   ]
  },
  {
   "cell_type": "code",
   "execution_count": 184,
   "metadata": {},
   "outputs": [
    {
     "name": "stdout",
     "output_type": "stream",
     "text": [
      "<class 'pandas.core.frame.DataFrame'>\n",
      "Int64Index: 18777 entries, 0 to 45447\n",
      "Data columns (total 3 columns):\n",
      " #   Column                   Non-Null Count  Dtype  \n",
      "---  ------                   --------------  -----  \n",
      " 0   title                    18777 non-null  object \n",
      " 1   vote_average_normalized  18777 non-null  float64\n",
      " 2   features                 18777 non-null  object \n",
      "dtypes: float64(1), object(2)\n",
      "memory usage: 586.8+ KB\n"
     ]
    }
   ],
   "source": [
    "#Revisamos el dataset final \n",
    "df.info()"
   ]
  },
  {
   "cell_type": "code",
   "execution_count": 190,
   "metadata": {},
   "outputs": [],
   "source": [
    "#Reseteamos el indice\n",
    "df = df.reset_index(drop=True)"
   ]
  },
  {
   "cell_type": "code",
   "execution_count": 192,
   "metadata": {},
   "outputs": [
    {
     "data": {
      "text/html": [
       "<div>\n",
       "<style scoped>\n",
       "    .dataframe tbody tr th:only-of-type {\n",
       "        vertical-align: middle;\n",
       "    }\n",
       "\n",
       "    .dataframe tbody tr th {\n",
       "        vertical-align: top;\n",
       "    }\n",
       "\n",
       "    .dataframe thead th {\n",
       "        text-align: right;\n",
       "    }\n",
       "</style>\n",
       "<table border=\"1\" class=\"dataframe\">\n",
       "  <thead>\n",
       "    <tr style=\"text-align: right;\">\n",
       "      <th></th>\n",
       "      <th>title</th>\n",
       "      <th>vote_average_normalized</th>\n",
       "      <th>features</th>\n",
       "    </tr>\n",
       "  </thead>\n",
       "  <tbody>\n",
       "    <tr>\n",
       "      <th>18772</th>\n",
       "      <td>Mom</td>\n",
       "      <td>0.66</td>\n",
       "      <td>crime drama thriller mad films third eye pictures</td>\n",
       "    </tr>\n",
       "    <tr>\n",
       "      <th>18773</th>\n",
       "      <td>St. Michael Had a Rooster</td>\n",
       "      <td>0.60</td>\n",
       "      <td>none none</td>\n",
       "    </tr>\n",
       "    <tr>\n",
       "      <th>18774</th>\n",
       "      <td>Shadow of the Blair Witch</td>\n",
       "      <td>0.70</td>\n",
       "      <td>mystery horror none</td>\n",
       "    </tr>\n",
       "    <tr>\n",
       "      <th>18775</th>\n",
       "      <td>The Burkittsville 7</td>\n",
       "      <td>0.70</td>\n",
       "      <td>horror neptune salad entertainment pirie produ...</td>\n",
       "    </tr>\n",
       "    <tr>\n",
       "      <th>18776</th>\n",
       "      <td>Century of Birthing</td>\n",
       "      <td>0.90</td>\n",
       "      <td>drama sine olivia</td>\n",
       "    </tr>\n",
       "  </tbody>\n",
       "</table>\n",
       "</div>"
      ],
      "text/plain": [
       "                           title  vote_average_normalized  \\\n",
       "18772                        Mom                     0.66   \n",
       "18773  St. Michael Had a Rooster                     0.60   \n",
       "18774  Shadow of the Blair Witch                     0.70   \n",
       "18775        The Burkittsville 7                     0.70   \n",
       "18776        Century of Birthing                     0.90   \n",
       "\n",
       "                                                features  \n",
       "18772  crime drama thriller mad films third eye pictures  \n",
       "18773                                          none none  \n",
       "18774                                mystery horror none  \n",
       "18775  horror neptune salad entertainment pirie produ...  \n",
       "18776                                  drama sine olivia  "
      ]
     },
     "execution_count": 192,
     "metadata": {},
     "output_type": "execute_result"
    }
   ],
   "source": [
    "df.tail()"
   ]
  },
  {
   "cell_type": "markdown",
   "metadata": {},
   "source": [
    "# **2. Creación del Modelo de recomendación** "
   ]
  },
  {
   "cell_type": "markdown",
   "metadata": {},
   "source": [
    "**2.1 Vectorización de características**\n",
    "- Para el modelo se usará 'TfidfVectorizer' ya que se desea conservar la semántica de las palabras y considerar la importancia relativa."
   ]
  },
  {
   "cell_type": "code",
   "execution_count": 193,
   "metadata": {},
   "outputs": [],
   "source": [
    "#Inicializamos Tfidfvectorizer\n",
    "tfidf_vectorizer = TfidfVectorizer(stop_words='english')\n",
    "#Transformamos los datos \n",
    "tfidf_matrix = tfidf_vectorizer.fit_transform(df['features'])"
   ]
  },
  {
   "cell_type": "code",
   "execution_count": 194,
   "metadata": {},
   "outputs": [
    {
     "data": {
      "text/plain": [
       "(18777, 11362)"
      ]
     },
     "execution_count": 194,
     "metadata": {},
     "output_type": "execute_result"
    }
   ],
   "source": [
    "# imprimimos el tamaño de la matrix\n",
    "tfidf_matrix.shape"
   ]
  },
  {
   "cell_type": "markdown",
   "metadata": {},
   "source": [
    "**2.2 Construcción de matriz final**\n",
    "- La idea original era considerar el promedio de votos de cada pelicula para calcular la similitud de coseno, sin embargo el procesamiento requeria mayores recursos, siendo especificos una mayor cantidad de memoria RAM disponible. \n",
    "- De todas maneras se deja el codigo comentado. "
   ]
  },
  {
   "cell_type": "code",
   "execution_count": 19,
   "metadata": {},
   "outputs": [],
   "source": [
    "# Incorporación de 'vote_average_normalized' en la matriz de características\n",
    "# vote_average_normalized_array = df['vote_average_normalized'].values.reshape(-1, 1)\n",
    "# tfidf_matrix_with_vote = pd.concat([pd.DataFrame(tfidf_matrix.toarray()), pd.DataFrame(vote_average_normalized_array)], axis=1)"
   ]
  },
  {
   "cell_type": "markdown",
   "metadata": {},
   "source": [
    "**2.3 Modelamiento**"
   ]
  },
  {
   "cell_type": "markdown",
   "metadata": {},
   "source": [
    "- Calculo de similitud de coseno"
   ]
  },
  {
   "cell_type": "code",
   "execution_count": 195,
   "metadata": {},
   "outputs": [],
   "source": [
    "# Cálculo de la matriz similitud coseno\n",
    "similarities = cosine_similarity(tfidf_matrix, tfidf_matrix)"
   ]
  },
  {
   "cell_type": "markdown",
   "metadata": {},
   "source": [
    "- Indice de peliculas"
   ]
  },
  {
   "cell_type": "code",
   "execution_count": 196,
   "metadata": {},
   "outputs": [],
   "source": [
    "# Creamos un índice de películas \n",
    "indices = pd.Series(df.index, index=df['title']).drop_duplicates()"
   ]
  },
  {
   "cell_type": "code",
   "execution_count": 197,
   "metadata": {},
   "outputs": [
    {
     "data": {
      "text/plain": [
       "(18777, 18777)"
      ]
     },
     "execution_count": 197,
     "metadata": {},
     "output_type": "execute_result"
    }
   ],
   "source": [
    "similarities.shape"
   ]
  },
  {
   "cell_type": "markdown",
   "metadata": {},
   "source": [
    "- Función de recomendación basada en similitud"
   ]
  },
  {
   "cell_type": "code",
   "execution_count": 198,
   "metadata": {},
   "outputs": [],
   "source": [
    "# Función de recomendación basada en similitud\n",
    "def recomendacion(title):\n",
    "    \"\"\"Función que recibe de argumento una pelicula y recomienda las 5 con mayor similitud\"\"\"\n",
    "    #Indice de la pelicula\n",
    "    movie_index = indices[title]\n",
    "\n",
    "    #Creamos una lista de tuplas donde cada tupla contiene el índice de la película y \n",
    "    # su similitud con la película seleccionada.\n",
    "    similar_movies = list(enumerate(similarities[movie_index]))\n",
    "\n",
    "    #Ordenamos la lista similar_movies en orden descendente\n",
    "    similar_movies = sorted(similar_movies, key=lambda x: x[1], reverse=True)\n",
    "\n",
    "    #Seleccionamos las 5 primeras\n",
    "    top_similar = similar_movies[1:6]\n",
    "\n",
    "    # Obtenemos los índices de las películas\n",
    "    movie_indices = [i[0] for i in top_similar]\n",
    "\n",
    "    #Creamos una lista de las peliculas\n",
    "    #peliculas_recomendadas = df_highly_rated['title'].iloc[movie_indices].tolist()\n",
    "    peliculas_recomendadas = df['title'].iloc[movie_indices].tolist()\n",
    "    return peliculas_recomendadas"
   ]
  },
  {
   "cell_type": "markdown",
   "metadata": {},
   "source": [
    "- Ejemplos de recomendación "
   ]
  },
  {
   "cell_type": "code",
   "execution_count": 199,
   "metadata": {},
   "outputs": [
    {
     "name": "stdout",
     "output_type": "stream",
     "text": [
      "Ya que viste 'Toy Story' te recomiendo ver: ['Toy Story 2', \"Dug's Special Mission\", 'Finding Nemo', 'Partly Cloudy', 'BURN·E']\n"
     ]
    }
   ],
   "source": [
    "pelicula = 'Toy Story'\n",
    "recomendaciones = recomendacion(pelicula)\n",
    "print(f\"Ya que viste '{pelicula}' te recomiendo ver: {recomendaciones}\")"
   ]
  },
  {
   "cell_type": "code",
   "execution_count": 200,
   "metadata": {},
   "outputs": [
    {
     "name": "stdout",
     "output_type": "stream",
     "text": [
      "Ya que viste 'Kurt Cobain: About a Son' te recomiendo ver: ['Beautiful Losers', 'Message to Love: The Isle of Wight Festival', 'Buena Vista Social Club', 'The Decline of Western Civilization Part II: The Metal Years', 'Down from the Mountain']\n"
     ]
    }
   ],
   "source": [
    "pelicula = 'Kurt Cobain: About a Son'\n",
    "recomendaciones = recomendacion(pelicula)\n",
    "print(f\"Ya que viste '{pelicula}' te recomiendo ver: {recomendaciones}\")"
   ]
  },
  {
   "cell_type": "code",
   "execution_count": 201,
   "metadata": {},
   "outputs": [
    {
     "name": "stdout",
     "output_type": "stream",
     "text": [
      "Ya que viste 'Dreams of Dust' te recomiendo ver: ['Lamerica', 'Under The Domim Tree', 'Kaspar Hauser', 'Voyage to the Beginning of the World', 'The Dreamlife of Angels']\n"
     ]
    }
   ],
   "source": [
    "pelicula = 'Dreams of Dust'\n",
    "recomendaciones = recomendacion(pelicula)\n",
    "print(f\"Ya que viste '{pelicula}' te recomiendo ver: {recomendaciones}\")"
   ]
  },
  {
   "cell_type": "markdown",
   "metadata": {},
   "source": [
    "**CONCLUSIONES DEL MODELO**\n",
    "- El modelo final basa sus recomendaciones en función al género y la productora de la pelicula.\n",
    "- Las recomendaciones en su mayoria son cercanas a lo que se podría esperar. \n",
    "- Se descarto overview por temas de procesamiento, capacidad de memoria y por que cuando fue ejecutada en conjunto con género no necesariamente devolvia peliculas muy relacionadas. "
   ]
  },
  {
   "cell_type": "markdown",
   "metadata": {},
   "source": [
    "-------------------------------------"
   ]
  },
  {
   "cell_type": "markdown",
   "metadata": {},
   "source": [
    "# **Creación de DATASET para DEPLOY**"
   ]
  },
  {
   "cell_type": "markdown",
   "metadata": {},
   "source": [
    "- Debido a que la capacidad de render es limitada, se encontro como solución crear un dataset que contenga el titulo de las peliculas y las 5 recomendaciones que brinda el modelo.\n",
    "- **ACLARACIÓN**: Esta solución funciona solo en casos de contener un dataset original fijo, osea que no recibe cargas continuas."
   ]
  },
  {
   "cell_type": "markdown",
   "metadata": {},
   "source": [
    "**1. Creación de df completo las 5 recomendaciones**"
   ]
  },
  {
   "cell_type": "code",
   "execution_count": 202,
   "metadata": {},
   "outputs": [],
   "source": [
    "# Crear una lista para almacenar los datos de recomendaciones\n",
    "recomendaciones_data = []\n",
    "\n",
    "# Iterar a través de las películas en el DataFrame\n",
    "for movie_title in df['title']:\n",
    "    \n",
    "    # Obtener recomendaciones para la película\n",
    "    recomendadas = recomendacion(movie_title)  \n",
    "    \n",
    "    #Creamos diccionario con cada pelicula y sus recomendaciones\n",
    "    recomendaciones_data.append({'Pelicula': movie_title, 'Recomendaciones': recomendadas})\n",
    "\n",
    "# Crear un DataFrame a partir de la lista de datos de recomendaciones\n",
    "recomendaciones_df = pd.DataFrame(recomendaciones_data)"
   ]
  },
  {
   "cell_type": "code",
   "execution_count": 203,
   "metadata": {},
   "outputs": [],
   "source": [
    "# Crear un DataFrame a partir de la lista de datos de recomendaciones\n",
    "recomendaciones_df = pd.DataFrame(recomendaciones_data)"
   ]
  },
  {
   "cell_type": "code",
   "execution_count": 206,
   "metadata": {},
   "outputs": [
    {
     "data": {
      "text/html": [
       "<div>\n",
       "<style scoped>\n",
       "    .dataframe tbody tr th:only-of-type {\n",
       "        vertical-align: middle;\n",
       "    }\n",
       "\n",
       "    .dataframe tbody tr th {\n",
       "        vertical-align: top;\n",
       "    }\n",
       "\n",
       "    .dataframe thead th {\n",
       "        text-align: right;\n",
       "    }\n",
       "</style>\n",
       "<table border=\"1\" class=\"dataframe\">\n",
       "  <thead>\n",
       "    <tr style=\"text-align: right;\">\n",
       "      <th></th>\n",
       "      <th>Pelicula</th>\n",
       "      <th>Recomendaciones</th>\n",
       "    </tr>\n",
       "  </thead>\n",
       "  <tbody>\n",
       "    <tr>\n",
       "      <th>0</th>\n",
       "      <td>Toy Story</td>\n",
       "      <td>[Toy Story 2, Dug's Special Mission, Finding N...</td>\n",
       "    </tr>\n",
       "    <tr>\n",
       "      <th>1</th>\n",
       "      <td>Jumanji</td>\n",
       "      <td>[Blind Fury, Pitch Black, The Associate, Snow ...</td>\n",
       "    </tr>\n",
       "    <tr>\n",
       "      <th>2</th>\n",
       "      <td>Grumpier Old Men</td>\n",
       "      <td>[Grumpy Old Men, You've Got Mail, Summer of '4...</td>\n",
       "    </tr>\n",
       "    <tr>\n",
       "      <th>3</th>\n",
       "      <td>Waiting to Exhale</td>\n",
       "      <td>[Ever After: A Cinderella Story, How Stella Go...</td>\n",
       "    </tr>\n",
       "    <tr>\n",
       "      <th>4</th>\n",
       "      <td>Heat</td>\n",
       "      <td>[A Time to Kill, The Negotiator, The Sunchaser...</td>\n",
       "    </tr>\n",
       "    <tr>\n",
       "      <th>5</th>\n",
       "      <td>Sabrina</td>\n",
       "      <td>[Mother, The Truman Show, Major League, The Ra...</td>\n",
       "    </tr>\n",
       "    <tr>\n",
       "      <th>6</th>\n",
       "      <td>GoldenEye</td>\n",
       "      <td>[For Your Eyes Only, The Living Daylights, Liv...</td>\n",
       "    </tr>\n",
       "    <tr>\n",
       "      <th>7</th>\n",
       "      <td>The American President</td>\n",
       "      <td>[Forget Paris, Othello, City Hall, Beyond Rang...</td>\n",
       "    </tr>\n",
       "    <tr>\n",
       "      <th>8</th>\n",
       "      <td>Balto</td>\n",
       "      <td>[An American Tail: Fievel Goes West, An Americ...</td>\n",
       "    </tr>\n",
       "    <tr>\n",
       "      <th>9</th>\n",
       "      <td>Nixon</td>\n",
       "      <td>[Tombstone, Deep Rising, The Joy Luck Club, My...</td>\n",
       "    </tr>\n",
       "    <tr>\n",
       "      <th>10</th>\n",
       "      <td>Casino</td>\n",
       "      <td>[Bringing Out the Dead, Grace of My Heart, Cap...</td>\n",
       "    </tr>\n",
       "    <tr>\n",
       "      <th>11</th>\n",
       "      <td>Sense and Sensibility</td>\n",
       "      <td>[Absence of Malice, Searching for Bobby Fische...</td>\n",
       "    </tr>\n",
       "    <tr>\n",
       "      <th>12</th>\n",
       "      <td>Four Rooms</td>\n",
       "      <td>[Pulp Fiction, Kill Bill: Vol. 1, Kill Bill: V...</td>\n",
       "    </tr>\n",
       "    <tr>\n",
       "      <th>13</th>\n",
       "      <td>Ace Ventura: When Nature Calls</td>\n",
       "      <td>[Robin Hood: Prince of Thieves, Incognito, Ace...</td>\n",
       "    </tr>\n",
       "    <tr>\n",
       "      <th>14</th>\n",
       "      <td>Get Shorty</td>\n",
       "      <td>[Get Carter, Zig Zag, Undercover Blues, Pretty...</td>\n",
       "    </tr>\n",
       "    <tr>\n",
       "      <th>15</th>\n",
       "      <td>Copycat</td>\n",
       "      <td>[Runaway Jury, Stay, True Story, What's Your N...</td>\n",
       "    </tr>\n",
       "    <tr>\n",
       "      <th>16</th>\n",
       "      <td>Assassins</td>\n",
       "      <td>[Lethal Weapon 4, Conspiracy Theory, Free Will...</td>\n",
       "    </tr>\n",
       "    <tr>\n",
       "      <th>17</th>\n",
       "      <td>Powder</td>\n",
       "      <td>[While You Were Sleeping, Simon Birch, Housegu...</td>\n",
       "    </tr>\n",
       "    <tr>\n",
       "      <th>18</th>\n",
       "      <td>Leaving Las Vegas</td>\n",
       "      <td>[Until September, Annie Hall, Raging Bull, Roc...</td>\n",
       "    </tr>\n",
       "    <tr>\n",
       "      <th>19</th>\n",
       "      <td>Othello</td>\n",
       "      <td>[City Hall, Beyond Rangoon, The American Presi...</td>\n",
       "    </tr>\n",
       "  </tbody>\n",
       "</table>\n",
       "</div>"
      ],
      "text/plain": [
       "                          Pelicula  \\\n",
       "0                        Toy Story   \n",
       "1                          Jumanji   \n",
       "2                 Grumpier Old Men   \n",
       "3                Waiting to Exhale   \n",
       "4                             Heat   \n",
       "5                          Sabrina   \n",
       "6                        GoldenEye   \n",
       "7           The American President   \n",
       "8                            Balto   \n",
       "9                            Nixon   \n",
       "10                          Casino   \n",
       "11           Sense and Sensibility   \n",
       "12                      Four Rooms   \n",
       "13  Ace Ventura: When Nature Calls   \n",
       "14                      Get Shorty   \n",
       "15                         Copycat   \n",
       "16                       Assassins   \n",
       "17                          Powder   \n",
       "18               Leaving Las Vegas   \n",
       "19                         Othello   \n",
       "\n",
       "                                      Recomendaciones  \n",
       "0   [Toy Story 2, Dug's Special Mission, Finding N...  \n",
       "1   [Blind Fury, Pitch Black, The Associate, Snow ...  \n",
       "2   [Grumpy Old Men, You've Got Mail, Summer of '4...  \n",
       "3   [Ever After: A Cinderella Story, How Stella Go...  \n",
       "4   [A Time to Kill, The Negotiator, The Sunchaser...  \n",
       "5   [Mother, The Truman Show, Major League, The Ra...  \n",
       "6   [For Your Eyes Only, The Living Daylights, Liv...  \n",
       "7   [Forget Paris, Othello, City Hall, Beyond Rang...  \n",
       "8   [An American Tail: Fievel Goes West, An Americ...  \n",
       "9   [Tombstone, Deep Rising, The Joy Luck Club, My...  \n",
       "10  [Bringing Out the Dead, Grace of My Heart, Cap...  \n",
       "11  [Absence of Malice, Searching for Bobby Fische...  \n",
       "12  [Pulp Fiction, Kill Bill: Vol. 1, Kill Bill: V...  \n",
       "13  [Robin Hood: Prince of Thieves, Incognito, Ace...  \n",
       "14  [Get Carter, Zig Zag, Undercover Blues, Pretty...  \n",
       "15  [Runaway Jury, Stay, True Story, What's Your N...  \n",
       "16  [Lethal Weapon 4, Conspiracy Theory, Free Will...  \n",
       "17  [While You Were Sleeping, Simon Birch, Housegu...  \n",
       "18  [Until September, Annie Hall, Raging Bull, Roc...  \n",
       "19  [City Hall, Beyond Rangoon, The American Presi...  "
      ]
     },
     "execution_count": 206,
     "metadata": {},
     "output_type": "execute_result"
    }
   ],
   "source": [
    "recomendaciones_df.head(20)"
   ]
  },
  {
   "cell_type": "markdown",
   "metadata": {},
   "source": [
    "- Exportamos el df creado a un archivo csv para ser consumido por la API"
   ]
  },
  {
   "cell_type": "code",
   "execution_count": 205,
   "metadata": {},
   "outputs": [],
   "source": [
    "recomendaciones_df.to_csv('recomendaciones.csv', index= False)"
   ]
  },
  {
   "cell_type": "markdown",
   "metadata": {},
   "source": [
    "**2. Creación de función de recomendación para API**"
   ]
  },
  {
   "cell_type": "markdown",
   "metadata": {},
   "source": [
    "- Ya que se tiene un dataset hecho, la función para obtener las 5 recomendaciones es solo un filtro"
   ]
  },
  {
   "cell_type": "code",
   "execution_count": null,
   "metadata": {},
   "outputs": [],
   "source": [
    "# ML\n",
    "@app.get('/recomendacion/{titulo}')\n",
    "def recomendacion(titulo:str):\n",
    "    '''Ingresas un nombre de pelicula y te recomienda las similares en una lista'''\n",
    "    return {'lista recomendada': respuesta}"
   ]
  },
  {
   "cell_type": "code",
   "execution_count": 207,
   "metadata": {},
   "outputs": [],
   "source": [
    "df_modelo = pd.read_csv('recomendaciones.csv')"
   ]
  },
  {
   "cell_type": "code",
   "execution_count": 208,
   "metadata": {},
   "outputs": [
    {
     "name": "stdout",
     "output_type": "stream",
     "text": [
      "<class 'pandas.core.frame.DataFrame'>\n",
      "RangeIndex: 18777 entries, 0 to 18776\n",
      "Data columns (total 2 columns):\n",
      " #   Column           Non-Null Count  Dtype \n",
      "---  ------           --------------  ----- \n",
      " 0   Pelicula         18777 non-null  object\n",
      " 1   Recomendaciones  18777 non-null  object\n",
      "dtypes: object(2)\n",
      "memory usage: 293.5+ KB\n"
     ]
    }
   ],
   "source": [
    "df_modelo.info()"
   ]
  },
  {
   "cell_type": "code",
   "execution_count": 209,
   "metadata": {},
   "outputs": [],
   "source": [
    "def recomendacion(titulo:str):\n",
    "    '''Ingresas un nombre de pelicula y te recomienda las similares en una lista'''\n",
    "    #Creamos mascara para buscar la pelicula \n",
    "    recomendaciones = df_modelo[df_modelo['Pelicula'] == titulo]['Recomendaciones'].values[0]\n",
    "    return {'lista recomendada': recomendaciones}"
   ]
  },
  {
   "cell_type": "code",
   "execution_count": 210,
   "metadata": {},
   "outputs": [
    {
     "data": {
      "text/plain": [
       "{'lista recomendada': \"['Beautiful Losers', 'Message to Love: The Isle of Wight Festival', 'Buena Vista Social Club', 'The Decline of Western Civilization Part II: The Metal Years', 'Down from the Mountain']\"}"
      ]
     },
     "execution_count": 210,
     "metadata": {},
     "output_type": "execute_result"
    }
   ],
   "source": [
    "recomendacion('Kurt Cobain: About a Son')"
   ]
  },
  {
   "cell_type": "markdown",
   "metadata": {},
   "source": [
    "-----------------------------------------------------------"
   ]
  }
 ],
 "metadata": {
  "kernelspec": {
   "display_name": "Python 3",
   "language": "python",
   "name": "python3"
  },
  "language_info": {
   "codemirror_mode": {
    "name": "ipython",
    "version": 3
   },
   "file_extension": ".py",
   "mimetype": "text/x-python",
   "name": "python",
   "nbconvert_exporter": "python",
   "pygments_lexer": "ipython3",
   "version": "3.10.7"
  },
  "orig_nbformat": 4
 },
 "nbformat": 4,
 "nbformat_minor": 2
}
