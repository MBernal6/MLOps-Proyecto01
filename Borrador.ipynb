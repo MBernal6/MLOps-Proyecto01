{
 "cells": [
  {
   "cell_type": "markdown",
   "metadata": {},
   "source": [
    "# **Borrador: Elección de dataset y creación de funciones**"
   ]
  },
  {
   "cell_type": "code",
   "execution_count": 66,
   "metadata": {},
   "outputs": [],
   "source": [
    "#Importación de librerias \n",
    "import pandas as pd \n",
    "import numpy as np "
   ]
  },
  {
   "cell_type": "code",
   "execution_count": 65,
   "metadata": {},
   "outputs": [],
   "source": [
    "#Lectura de los datos \n",
    "movies = pd.read_csv(\"Datasets\\movies_dataset.csv\")\n",
    "movies_1 = pd.read_excel(\"Datasets\\movies_dataset.xlsx\")\n",
    "movies_2 = pd.read_excel(\"Datasets\\movies_dataset(1).xlsx\")\n",
    "creditos = pd.read_csv(\"Datasets\\credits.csv\")"
   ]
  },
  {
   "cell_type": "markdown",
   "metadata": {},
   "source": [
    "Movies.csv "
   ]
  },
  {
   "cell_type": "code",
   "execution_count": null,
   "metadata": {},
   "outputs": [],
   "source": [
    "movies.head(2)"
   ]
  },
  {
   "cell_type": "code",
   "execution_count": null,
   "metadata": {},
   "outputs": [],
   "source": [
    "movies.info()"
   ]
  },
  {
   "cell_type": "markdown",
   "metadata": {},
   "source": [
    "Movies.xlsx"
   ]
  },
  {
   "cell_type": "code",
   "execution_count": null,
   "metadata": {},
   "outputs": [],
   "source": [
    "movies_1.head(2)"
   ]
  },
  {
   "cell_type": "code",
   "execution_count": null,
   "metadata": {},
   "outputs": [],
   "source": [
    "movies_1.info()"
   ]
  },
  {
   "cell_type": "markdown",
   "metadata": {},
   "source": [
    "Movies(1).xlsx"
   ]
  },
  {
   "cell_type": "code",
   "execution_count": null,
   "metadata": {},
   "outputs": [],
   "source": [
    "movies_2.head(2)"
   ]
  },
  {
   "cell_type": "code",
   "execution_count": null,
   "metadata": {},
   "outputs": [],
   "source": [
    "movies_2.info()"
   ]
  },
  {
   "cell_type": "markdown",
   "metadata": {},
   "source": [
    "Creditos"
   ]
  },
  {
   "cell_type": "code",
   "execution_count": 72,
   "metadata": {},
   "outputs": [
    {
     "data": {
      "text/plain": [
       "array([\"[{'credit_id': '55d513bc92514102d2002c3a', 'department': 'Directing', 'gender': 0, 'id': 61440, 'job': 'Director', 'name': 'Lance Bangs', 'profile_path': '/smkFj23FrTWrEb93m0IhoCTrfeU.jpg'}]\",\n",
       "       \"[{'credit_id': '55b25040925141736400248d', 'department': 'Production', 'gender': 1, 'id': 64605, 'job': 'Casting', 'name': 'Sharon Forrest', 'profile_path': None}, {'credit_id': '55b24f519251411e180101b6', 'department': 'Directing', 'gender': 1, 'id': 205082, 'job': 'Director', 'name': 'Shauna MacDonald', 'profile_path': '/nZZOxvDubpGhAMEbPqVULG84ayg.jpg'}, {'credit_id': '55b24fdfc3a368726500a4db', 'department': 'Production', 'gender': 1, 'id': 205082, 'job': 'Producer', 'name': 'Shauna MacDonald', 'profile_path': '/nZZOxvDubpGhAMEbPqVULG84ayg.jpg'}, {'credit_id': '55b24f5dc3a368246c00a437', 'department': 'Writing', 'gender': 1, 'id': 205082, 'job': 'Writer', 'name': 'Shauna MacDonald', 'profile_path': '/nZZOxvDubpGhAMEbPqVULG84ayg.jpg'}, {'credit_id': '55b24ffd9251411e0f0105e5', 'department': 'Sound', 'gender': 0, 'id': 550644, 'job': 'Music', 'name': 'Patric Caird', 'profile_path': None}, {'credit_id': '55b250139251411e0f0105e8', 'department': 'Camera', 'gender': 1, 'id': 1080724, 'job': 'Director of Photography', 'name': 'Maya Bankovic', 'profile_path': None}, {'credit_id': '55b24eebc3a368210a002746', 'department': 'Directing', 'gender': 0, 'id': 1490045, 'job': 'Director', 'name': 'Kate Johnston', 'profile_path': None}, {'credit_id': '55b24fc9c3a3682190002560', 'department': 'Production', 'gender': 0, 'id': 1490045, 'job': 'Producer', 'name': 'Kate Johnston', 'profile_path': None}, {'credit_id': '55b24f809251411e14010831', 'department': 'Writing', 'gender': 0, 'id': 1490045, 'job': 'Writer', 'name': 'Kate Johnston', 'profile_path': None}, {'credit_id': '55b24fb3c3a368210a002760', 'department': 'Production', 'gender': 0, 'id': 1490047, 'job': 'Producer', 'name': 'Matthew Gorman', 'profile_path': None}, {'credit_id': '55b25028925141788b0026dc', 'department': 'Editing', 'gender': 0, 'id': 1490049, 'job': 'Editor', 'name': 'Tiffany Beaudin', 'profile_path': None}]\"],\n",
       "      dtype=object)"
      ]
     },
     "execution_count": 72,
     "metadata": {},
     "output_type": "execute_result"
    }
   ],
   "source": [
    "creditos.crew.sample(2).values"
   ]
  },
  {
   "cell_type": "code",
   "execution_count": 73,
   "metadata": {},
   "outputs": [
    {
     "data": {
      "text/plain": [
       "0        [{'credit_id': '52fe4284c3a36847f8024f49', 'de...\n",
       "1        [{'credit_id': '52fe44bfc3a36847f80a7cd1', 'de...\n",
       "2        [{'credit_id': '52fe466a9251416c75077a89', 'de...\n",
       "3        [{'credit_id': '52fe44779251416c91011acb', 'de...\n",
       "4        [{'credit_id': '52fe44959251416c75039ed7', 'de...\n",
       "                               ...                        \n",
       "45471    [{'credit_id': '5894a97d925141426c00818c', 'de...\n",
       "45472    [{'credit_id': '52fe4af1c3a36847f81e9b15', 'de...\n",
       "45473    [{'credit_id': '52fe4776c3a368484e0c8387', 'de...\n",
       "45474    [{'credit_id': '533bccebc3a36844cf0011a7', 'de...\n",
       "45475    [{'credit_id': '593e676c92514105b702e68e', 'de...\n",
       "Name: crew, Length: 45476, dtype: object"
      ]
     },
     "execution_count": 73,
     "metadata": {},
     "output_type": "execute_result"
    }
   ],
   "source": [
    "creditos.crew"
   ]
  },
  {
   "cell_type": "markdown",
   "metadata": {},
   "source": [
    "- **Conclusión EXTRACT**: Los datasets contienen la misma información a excepción de un registro adicional que contiene el csv en la columna \"tagline\". Existen columnas anidadas en todos los datasets y  diferencias respecto al formato de la columna release_date y una columna tipo float. Es por ello que se decide trabajar con el archivo CSV. "
   ]
  },
  {
   "cell_type": "markdown",
   "metadata": {},
   "source": [
    "-----------------"
   ]
  },
  {
   "cell_type": "markdown",
   "metadata": {},
   "source": [
    "# **Funciones**"
   ]
  },
  {
   "cell_type": "code",
   "execution_count": 2,
   "metadata": {},
   "outputs": [],
   "source": [
    "import pandas as pd\n",
    "import numpy as np \n"
   ]
  },
  {
   "cell_type": "code",
   "execution_count": 3,
   "metadata": {},
   "outputs": [],
   "source": [
    "#Leemos el dataset limpiado\n",
    "df = pd.read_csv('movies_final.csv')"
   ]
  },
  {
   "cell_type": "code",
   "execution_count": 4,
   "metadata": {},
   "outputs": [
    {
     "name": "stdout",
     "output_type": "stream",
     "text": [
      "<class 'pandas.core.frame.DataFrame'>\n",
      "RangeIndex: 45451 entries, 0 to 45450\n",
      "Data columns (total 21 columns):\n",
      " #   Column               Non-Null Count  Dtype  \n",
      "---  ------               --------------  -----  \n",
      " 0   id                   45451 non-null  int64  \n",
      " 1   title                45451 non-null  object \n",
      " 2   genre                45451 non-null  object \n",
      " 3   collection           45451 non-null  object \n",
      " 4   original_language    45440 non-null  object \n",
      " 5   spoken_language      45451 non-null  object \n",
      " 6   runtime              45205 non-null  float64\n",
      " 7   release_date         45451 non-null  object \n",
      " 8   release_year         45451 non-null  int64  \n",
      " 9   director_name        44617 non-null  object \n",
      " 10  companies            45451 non-null  object \n",
      " 11  production_countrie  45451 non-null  object \n",
      " 12  status               45371 non-null  object \n",
      " 13  overview             44510 non-null  object \n",
      " 14  popularity           45451 non-null  float64\n",
      " 15  vote_average         45451 non-null  float64\n",
      " 16  vote_count           45451 non-null  float64\n",
      " 17  budget               45451 non-null  float64\n",
      " 18  revenue              45451 non-null  float64\n",
      " 19  return               45451 non-null  float64\n",
      " 20  tagline              20425 non-null  object \n",
      "dtypes: float64(7), int64(2), object(12)\n",
      "memory usage: 7.3+ MB\n"
     ]
    }
   ],
   "source": [
    "df.info()"
   ]
  },
  {
   "cell_type": "code",
   "execution_count": 38,
   "metadata": {},
   "outputs": [],
   "source": [
    "mask = df[df['runtime'].isnull() ]"
   ]
  },
  {
   "cell_type": "markdown",
   "metadata": {},
   "source": [
    "1. Peliculas idioma "
   ]
  },
  {
   "cell_type": "code",
   "execution_count": 3,
   "metadata": {},
   "outputs": [
    {
     "data": {
      "text/plain": [
       "array(['en', 'fr', 'zh', 'it', 'fa', 'nl', 'de', 'cn', 'ar', 'es', 'ru',\n",
       "       'sv', 'ja', 'ko', 'sr', 'bn', 'he', 'pt', 'wo', 'ro', 'hu', 'cy',\n",
       "       'vi', 'cs', 'da', 'no', 'nb', 'pl', 'el', 'sh', 'xx', 'mk', 'bo',\n",
       "       'ca', 'fi', 'th', 'sk', 'bs', 'hi', 'tr', 'is', 'ps', 'ab', 'eo',\n",
       "       'ka', 'mn', 'bm', 'zu', 'uk', 'af', 'la', 'et', 'ku', 'fy', 'lv',\n",
       "       'ta', 'sl', 'tl', 'ur', 'rw', 'id', 'bg', 'mr', 'lt', 'kk', 'ms',\n",
       "       'sq', nan, 'qu', 'te', 'am', 'jv', 'tg', 'ml', 'hr', 'lo', 'ay',\n",
       "       'kn', 'eu', 'ne', 'pa', 'ky', 'gl', 'uz', 'sm', 'mt', 'hy', 'iu',\n",
       "       'lb', 'si'], dtype=object)"
      ]
     },
     "execution_count": 3,
     "metadata": {},
     "output_type": "execute_result"
    }
   ],
   "source": [
    "df.original_language.unique()"
   ]
  },
  {
   "cell_type": "code",
   "execution_count": 4,
   "metadata": {},
   "outputs": [],
   "source": [
    "def peliculas_idioma(idioma:str):\n",
    "    '''Ingresas el idioma, retornando la cantidad de peliculas producidas en el mismo'''\n",
    "    # Mascara para obtener solo las filas con el idioma proporcionado\n",
    "    peliculas_en_idioma = df[df['original_language'] == idioma]\n",
    "    \n",
    "    # Contar el número de filas resultantes, que corresponde a la cantidad de películas en ese idioma\n",
    "    respuesta = peliculas_en_idioma.shape[0]\n",
    "\n",
    "    return {'idioma':idioma, 'cantidad':respuesta}"
   ]
  },
  {
   "cell_type": "code",
   "execution_count": 5,
   "metadata": {},
   "outputs": [
    {
     "data": {
      "text/plain": [
       "{'idioma': 'en', 'cantidad': 32249}"
      ]
     },
     "execution_count": 5,
     "metadata": {},
     "output_type": "execute_result"
    }
   ],
   "source": [
    "peliculas_idioma('en')"
   ]
  },
  {
   "cell_type": "markdown",
   "metadata": {},
   "source": [
    "2. Duración de pelicula "
   ]
  },
  {
   "cell_type": "code",
   "execution_count": 5,
   "metadata": {},
   "outputs": [
    {
     "data": {
      "text/plain": [
       "array(['Toy Story', 'Jumanji', 'Grumpier Old Men', ..., 'Betrayal',\n",
       "       'Satan Triumphant', 'Queerama'], dtype=object)"
      ]
     },
     "execution_count": 5,
     "metadata": {},
     "output_type": "execute_result"
    }
   ],
   "source": [
    "df.title.values"
   ]
  },
  {
   "cell_type": "code",
   "execution_count": 32,
   "metadata": {},
   "outputs": [],
   "source": [
    "def peliculas_duracion(pelicula:str):\n",
    "    '''Ingresas la pelicula, retornando la duracion y el año'''\n",
    "    #Mascara para obtener la fila de la pelicula buscada\n",
    "    pelicula_buscada = df[df['title'] == pelicula]\n",
    "\n",
    "    #Extraemos los valores de las columnas necesaria\n",
    "    duracion = int(pelicula_buscada['runtime'].values[0])\n",
    "    anio = int(pelicula_buscada['release_year'].values[0])\n",
    "\n",
    "    return {'pelicula':pelicula, 'duracion':duracion, 'anio':anio}"
   ]
  },
  {
   "cell_type": "code",
   "execution_count": 33,
   "metadata": {},
   "outputs": [
    {
     "data": {
      "text/plain": [
       "{'pelicula': 'Toy Story', 'duracion': 81, 'anio': 1995}"
      ]
     },
     "execution_count": 33,
     "metadata": {},
     "output_type": "execute_result"
    }
   ],
   "source": [
    "peliculas_duracion('Toy Story')"
   ]
  },
  {
   "cell_type": "markdown",
   "metadata": {},
   "source": [
    "3. Franquicia "
   ]
  },
  {
   "cell_type": "code",
   "execution_count": 43,
   "metadata": {},
   "outputs": [
    {
     "data": {
      "text/plain": [
       "array(['Toy Story Collection', 'None', 'Grumpy Old Men Collection', ...,\n",
       "       'Ducobu Collection', 'Mister Blot Collection',\n",
       "       'Red Lotus Collection'], dtype=object)"
      ]
     },
     "execution_count": 43,
     "metadata": {},
     "output_type": "execute_result"
    }
   ],
   "source": [
    "df.collection.unique()"
   ]
  },
  {
   "cell_type": "code",
   "execution_count": 56,
   "metadata": {},
   "outputs": [],
   "source": [
    "def franquicia(franquicia:str):\n",
    "    '''Se ingresa la franquicia, retornando la cantidad de peliculas, ganancia total y promedio'''\n",
    "    #Mascara para seleccionar las peliculas de una misma franquicia \n",
    "    peliculas_franquicia = df[df['collection'] == franquicia]\n",
    "\n",
    "    #Se calcula la cantidad de peliculas\n",
    "    cantidad = peliculas_franquicia.shape[0]\n",
    "\n",
    "    #Se calcula la ganancia total, que se considera como el Revenue que esta definida como:\n",
    "    ##revenue: 'Recaudación total de la pelicula '\n",
    "    ganancia_total = peliculas_franquicia['revenue'].sum()\n",
    "\n",
    "    #Se calcula el promedio usando la columna revenue\n",
    "    ganancia_promedio = peliculas_franquicia['revenue'].mean()\n",
    "\n",
    "    return {'franquicia':franquicia, 'cantidad':cantidad, 'ganancia_total':ganancia_total, 'ganancia_promedio':ganancia_promedio}"
   ]
  },
  {
   "cell_type": "code",
   "execution_count": 59,
   "metadata": {},
   "outputs": [
    {
     "data": {
      "text/plain": [
       "{'franquicia': 'Red Lotus Collection',\n",
       " 'cantidad': 1,\n",
       " 'ganancia_total': 0.0,\n",
       " 'ganancia_promedio': 0.0}"
      ]
     },
     "execution_count": 59,
     "metadata": {},
     "output_type": "execute_result"
    }
   ],
   "source": [
    "franquicia('Red Lotus Collection')"
   ]
  },
  {
   "cell_type": "markdown",
   "metadata": {},
   "source": [
    "4. Peliculas por pais "
   ]
  },
  {
   "cell_type": "code",
   "execution_count": 74,
   "metadata": {},
   "outputs": [
    {
     "data": {
      "text/plain": [
       "array(['United States of America', 'Germany, United States of America',\n",
       "       'United Kingdom, United States of America', ...,\n",
       "       'Poland, Czech Republic, Slovakia', 'Cuba, Germany, Spain',\n",
       "       'Egypt, Italy, United States of America'], dtype=object)"
      ]
     },
     "execution_count": 74,
     "metadata": {},
     "output_type": "execute_result"
    }
   ],
   "source": [
    "df.production_countrie.unique()"
   ]
  },
  {
   "cell_type": "code",
   "execution_count": 78,
   "metadata": {},
   "outputs": [],
   "source": [
    "def peliculas_pais(pais:str):\n",
    "    '''Ingresas el pais, retornando la cantidad de peliculas producidas en el mismo'''\n",
    "    # Utilizar 'str.contains()' para verificar en qué filas se encuentra el país proporcionado\n",
    "    peliculas_en_pais = df[df['production_countrie'].str.contains(pais)]\n",
    "    \n",
    "    # Contar el número de filas resultantes, que corresponde a la cantidad de películas en ese país\n",
    "    cantidad_peliculas = peliculas_en_pais.shape[0]\n",
    "    \n",
    "    # Crear y retornar un diccionario con la información solicitada\n",
    "    return {'pais': pais, 'cantidad': cantidad_peliculas}"
   ]
  },
  {
   "cell_type": "code",
   "execution_count": 80,
   "metadata": {},
   "outputs": [
    {
     "data": {
      "text/plain": [
       "{'pais': 'United States of America', 'cantidad': 21176}"
      ]
     },
     "execution_count": 80,
     "metadata": {},
     "output_type": "execute_result"
    }
   ],
   "source": [
    "peliculas_pais('United States of America')"
   ]
  },
  {
   "cell_type": "markdown",
   "metadata": {},
   "source": [
    "5. Productoras exitosas"
   ]
  },
  {
   "cell_type": "code",
   "execution_count": 81,
   "metadata": {},
   "outputs": [
    {
     "data": {
      "text/plain": [
       "array(['Pixar Animation Studios',\n",
       "       'TriStar Pictures, Teitler Film, Interscope Communications',\n",
       "       'Warner Bros., Lancaster Gate', ...,\n",
       "       'Westdeutscher Rundfunk (WDR), Working Title Films, 20th Century Fox Television, CanWest Global Communications',\n",
       "       'Sine Olivia', 'Yermoliev'], dtype=object)"
      ]
     },
     "execution_count": 81,
     "metadata": {},
     "output_type": "execute_result"
    }
   ],
   "source": [
    "df.companies.unique()"
   ]
  },
  {
   "cell_type": "code",
   "execution_count": 82,
   "metadata": {},
   "outputs": [],
   "source": [
    "def productoras_exitosas(productora:str):\n",
    "    '''Ingresas la productora, entregandote el revunue total y la cantidad de peliculas que realizo '''\n",
    "    # Utilizar 'str.contains()' para verificar en qué filas se encuentra el país proporcionado\n",
    "    peliculas_productora = df[df['companies'].str.contains(productora)]\n",
    "    \n",
    "    # Sumamos la columna revenue de los datos filtrados \n",
    "    revenue_total = peliculas_productora['revenue'].sum()\n",
    "\n",
    "    # Contar el número de filas resultantes, que corresponde a la cantidad de películas en ese país\n",
    "    cantidad_peliculas = peliculas_productora.shape[0]\n",
    "\n",
    "    return {'productora':productora, 'revenue_total': revenue_total,'cantidad':cantidad_peliculas}\n"
   ]
  },
  {
   "cell_type": "code",
   "execution_count": 84,
   "metadata": {},
   "outputs": [
    {
     "data": {
      "text/plain": [
       "{'productora': 'Teitler Film', 'revenue_total': 327118750.0, 'cantidad': 2}"
      ]
     },
     "execution_count": 84,
     "metadata": {},
     "output_type": "execute_result"
    }
   ],
   "source": [
    "productoras_exitosas('Teitler Film')"
   ]
  },
  {
   "cell_type": "markdown",
   "metadata": {},
   "source": [
    "6. Director"
   ]
  },
  {
   "cell_type": "code",
   "execution_count": 87,
   "metadata": {},
   "outputs": [
    {
     "data": {
      "text/plain": [
       "array(['John Lasseter', 'Joe Johnston', 'Howard Deutch', ...,\n",
       "       'Shanra J. Kehl', 'Aaron Osborne', 'Daisy Asquith'], dtype=object)"
      ]
     },
     "execution_count": 87,
     "metadata": {},
     "output_type": "execute_result"
    }
   ],
   "source": [
    "df.director_name.unique()"
   ]
  },
  {
   "cell_type": "code",
   "execution_count": 6,
   "metadata": {},
   "outputs": [],
   "source": [
    "def get_director(nombre_director:str):\n",
    "    ''' Se ingresa el nombre de un director que se encuentre dentro de un dataset debiendo devolver el éxito del mismo medido a través del retorno. \n",
    "    Además, deberá devolver el nombre de cada película con la fecha de lanzamiento, retorno individual, costo y ganancia de la misma. En formato lista'''\n",
    "    #Mascara para seleccionar las peliculas de un mismo director \n",
    "    peliculas_director = df[df['director_name'] == nombre_director]\n",
    "    if peliculas_director.empty:\n",
    "        return f'No se encontraron películas del director {nombre_director}.'\n",
    "\n",
    "    #Calcular el éxito total del director calculando el retorno de todas sus películas sumadas\n",
    "    \n",
    "    retorno = peliculas_director['revenue'].sum()/peliculas_director['budget'].sum()\n",
    "\n",
    "    # Obtener información detallada de cada película\n",
    "    peliculas_info = []\n",
    "    for index, row in peliculas_director.iterrows():\n",
    "        pelicula_info = {\n",
    "            'titulo': row['title'],\n",
    "            'anio': row['release_year'],\n",
    "            'retorno': row['return'],\n",
    "            'costo': row['budget'],\n",
    "            'ganancia': row['revenue']\n",
    "        }\n",
    "        peliculas_info.append(pelicula_info)\n",
    "    \n",
    "    # Crear y retornar un diccionario con la información solicitada\n",
    "    return {\n",
    "        'director': nombre_director,\n",
    "        'retorno_total_director': retorno,\n",
    "        'peliculas': peliculas_info\n",
    "        }\n",
    "    "
   ]
  },
  {
   "cell_type": "code",
   "execution_count": 10,
   "metadata": {},
   "outputs": [
    {
     "data": {
      "text/plain": [
       "{'director': 'John Lasseter',\n",
       " 'retorno_total_director': 3.986827365714286,\n",
       " 'peliculas': [{'titulo': 'Toy Story',\n",
       "   'anio': 1995,\n",
       "   'retorno': 12.4518011,\n",
       "   'costo': 30000000.0,\n",
       "   'ganancia': 373554033.0},\n",
       "  {'titulo': 'Luxo Jr.',\n",
       "   'anio': 1986,\n",
       "   'retorno': 0.0,\n",
       "   'costo': 0.0,\n",
       "   'ganancia': 0.0},\n",
       "  {'titulo': 'Cars',\n",
       "   'anio': 2006,\n",
       "   'retorno': 3.849859575,\n",
       "   'costo': 120000000.0,\n",
       "   'ganancia': 461983149.0},\n",
       "  {'titulo': 'Cars 2',\n",
       "   'anio': 2011,\n",
       "   'retorno': 2.79926198,\n",
       "   'costo': 200000000.0,\n",
       "   'ganancia': 559852396.0},\n",
       "  {'titulo': 'Tin Toy',\n",
       "   'anio': 1988,\n",
       "   'retorno': 0.0,\n",
       "   'costo': 0.0,\n",
       "   'ganancia': 0.0},\n",
       "  {'titulo': \"Red's Dream\",\n",
       "   'anio': 1987,\n",
       "   'retorno': 0.0,\n",
       "   'costo': 0.0,\n",
       "   'ganancia': 0.0},\n",
       "  {'titulo': 'Knick Knack',\n",
       "   'anio': 1989,\n",
       "   'retorno': 0.0,\n",
       "   'costo': 0.0,\n",
       "   'ganancia': 0.0},\n",
       "  {'titulo': 'Mater and the Ghostlight',\n",
       "   'anio': 2006,\n",
       "   'retorno': 0.0,\n",
       "   'costo': 0.0,\n",
       "   'ganancia': 0.0}]}"
      ]
     },
     "execution_count": 10,
     "metadata": {},
     "output_type": "execute_result"
    }
   ],
   "source": [
    "get_director('John Lasseter')"
   ]
  },
  {
   "cell_type": "markdown",
   "metadata": {},
   "source": [
    "-----------------------------"
   ]
  },
  {
   "cell_type": "markdown",
   "metadata": {},
   "source": []
  },
  {
   "cell_type": "markdown",
   "metadata": {},
   "source": []
  },
  {
   "cell_type": "code",
   "execution_count": 3,
   "metadata": {},
   "outputs": [],
   "source": [
    "import pandas as pd \n",
    "import numpy as np"
   ]
  },
  {
   "cell_type": "code",
   "execution_count": 4,
   "metadata": {},
   "outputs": [],
   "source": [
    "df = pd.read_csv(\"movies_final.csv\")"
   ]
  },
  {
   "cell_type": "code",
   "execution_count": 5,
   "metadata": {},
   "outputs": [
    {
     "name": "stdout",
     "output_type": "stream",
     "text": [
      "['id', 'title', 'genre', 'collection', 'original_language', 'spoken_language', 'runtime', 'release_date', 'release_year', 'director_name', 'companies', 'production_countrie', 'status', 'overview', 'popularity', 'vote_average', 'vote_count', 'budget', 'revenue', 'return', 'tagline']\n"
     ]
    }
   ],
   "source": [
    "column_names = df.columns.tolist()\n",
    "\n",
    "print(column_names)"
   ]
  }
 ],
 "metadata": {
  "kernelspec": {
   "display_name": "Python 3",
   "language": "python",
   "name": "python3"
  },
  "language_info": {
   "codemirror_mode": {
    "name": "ipython",
    "version": 3
   },
   "file_extension": ".py",
   "mimetype": "text/x-python",
   "name": "python",
   "nbconvert_exporter": "python",
   "pygments_lexer": "ipython3",
   "version": "3.10.7"
  },
  "orig_nbformat": 4
 },
 "nbformat": 4,
 "nbformat_minor": 2
}
